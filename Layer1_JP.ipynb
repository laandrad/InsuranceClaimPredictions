{
 "cells": [
  {
   "cell_type": "code",
   "execution_count": 1,
   "metadata": {
    "collapsed": true
   },
   "outputs": [],
   "source": [
    "import pandas as pd\n",
    "import numpy as np\n",
    "from matplotlib import pyplot as plt\n",
    "from sklearn.preprocessing import StandardScaler\n",
    "from sklearn.linear_model import LogisticRegression\n",
    "from sklearn.metrics import accuracy_score\n",
    "from sklearn.model_selection import train_test_split\n",
    "\n",
    "%matplotlib inline"
   ]
  },
  {
   "cell_type": "code",
   "execution_count": 2,
   "metadata": {},
   "outputs": [
    {
     "name": "stdout",
     "output_type": "stream",
     "text": [
      "C:\\Users\\joogl\\InsuranceClaimPredictions\n"
     ]
    }
   ],
   "source": [
    "import sys\n",
    "import os\n",
    "cd=os.getcwd()\n",
    "print(cd)\n",
    "data=os.getcwd()+r'/Actuary Data/train_set.csv'"
   ]
  },
  {
   "cell_type": "code",
   "execution_count": 3,
   "metadata": {},
   "outputs": [
    {
     "name": "stdout",
     "output_type": "stream",
     "text": [
      "3.6.3 |Anaconda custom (64-bit)| (default, Oct 15 2017, 03:27:45) [MSC v.1900 64 bit (AMD64)]\n"
     ]
    }
   ],
   "source": [
    "print(sys.version)"
   ]
  },
  {
   "cell_type": "code",
   "execution_count": 4,
   "metadata": {
    "collapsed": true
   },
   "outputs": [],
   "source": [
    "# Load test data\n",
    "test_data = os.getcwd() + r'/Actuary Data/test_set.csv'\n",
    "df_test = pd.read_csv(test_data)"
   ]
  },
  {
   "cell_type": "code",
   "execution_count": 5,
   "metadata": {},
   "outputs": [
    {
     "name": "stderr",
     "output_type": "stream",
     "text": [
      "C:\\Users\\joogl\\Anaconda3\\lib\\site-packages\\IPython\\core\\interactiveshell.py:2698: DtypeWarning: Columns (20) have mixed types. Specify dtype option on import or set low_memory=False.\n",
      "  interactivity=interactivity, compiler=compiler, result=result)\n"
     ]
    },
    {
     "data": {
      "text/html": [
       "<div>\n",
       "<style>\n",
       "    .dataframe thead tr:only-child th {\n",
       "        text-align: right;\n",
       "    }\n",
       "\n",
       "    .dataframe thead th {\n",
       "        text-align: left;\n",
       "    }\n",
       "\n",
       "    .dataframe tbody tr th {\n",
       "        vertical-align: top;\n",
       "    }\n",
       "</style>\n",
       "<table border=\"1\" class=\"dataframe\">\n",
       "  <thead>\n",
       "    <tr style=\"text-align: right;\">\n",
       "      <th></th>\n",
       "      <th>Row_ID</th>\n",
       "      <th>Household_ID</th>\n",
       "      <th>Vehicle</th>\n",
       "      <th>Calendar_Year</th>\n",
       "      <th>Model_Year</th>\n",
       "      <th>Blind_Make</th>\n",
       "      <th>Blind_Model</th>\n",
       "      <th>Blind_Submodel</th>\n",
       "      <th>Cat1</th>\n",
       "      <th>Cat2</th>\n",
       "      <th>...</th>\n",
       "      <th>Var5</th>\n",
       "      <th>Var6</th>\n",
       "      <th>Var7</th>\n",
       "      <th>Var8</th>\n",
       "      <th>NVCat</th>\n",
       "      <th>NVVar1</th>\n",
       "      <th>NVVar2</th>\n",
       "      <th>NVVar3</th>\n",
       "      <th>NVVar4</th>\n",
       "      <th>Claim_Amount</th>\n",
       "    </tr>\n",
       "  </thead>\n",
       "  <tbody>\n",
       "    <tr>\n",
       "      <th>0</th>\n",
       "      <td>1</td>\n",
       "      <td>1</td>\n",
       "      <td>3</td>\n",
       "      <td>2005</td>\n",
       "      <td>2005</td>\n",
       "      <td>K</td>\n",
       "      <td>K.78</td>\n",
       "      <td>K.78.2</td>\n",
       "      <td>D</td>\n",
       "      <td>C</td>\n",
       "      <td>...</td>\n",
       "      <td>1.008912</td>\n",
       "      <td>0.261040</td>\n",
       "      <td>0.907793</td>\n",
       "      <td>-0.077998</td>\n",
       "      <td>M</td>\n",
       "      <td>-0.231530</td>\n",
       "      <td>-0.266117</td>\n",
       "      <td>-0.272337</td>\n",
       "      <td>-0.251419</td>\n",
       "      <td>0.0</td>\n",
       "    </tr>\n",
       "    <tr>\n",
       "      <th>1</th>\n",
       "      <td>2</td>\n",
       "      <td>2</td>\n",
       "      <td>2</td>\n",
       "      <td>2005</td>\n",
       "      <td>2003</td>\n",
       "      <td>Q</td>\n",
       "      <td>Q.22</td>\n",
       "      <td>Q.22.3</td>\n",
       "      <td>B</td>\n",
       "      <td>C</td>\n",
       "      <td>...</td>\n",
       "      <td>1.240851</td>\n",
       "      <td>0.432987</td>\n",
       "      <td>-0.726459</td>\n",
       "      <td>0.204785</td>\n",
       "      <td>O</td>\n",
       "      <td>-0.231530</td>\n",
       "      <td>-0.266117</td>\n",
       "      <td>-0.272337</td>\n",
       "      <td>-0.251419</td>\n",
       "      <td>0.0</td>\n",
       "    </tr>\n",
       "    <tr>\n",
       "      <th>2</th>\n",
       "      <td>3</td>\n",
       "      <td>3</td>\n",
       "      <td>1</td>\n",
       "      <td>2005</td>\n",
       "      <td>1998</td>\n",
       "      <td>AR</td>\n",
       "      <td>AR.41</td>\n",
       "      <td>AR.41.1</td>\n",
       "      <td>B</td>\n",
       "      <td>?</td>\n",
       "      <td>...</td>\n",
       "      <td>-0.971487</td>\n",
       "      <td>-1.405797</td>\n",
       "      <td>-0.837048</td>\n",
       "      <td>-1.176858</td>\n",
       "      <td>F</td>\n",
       "      <td>-0.231530</td>\n",
       "      <td>-0.266117</td>\n",
       "      <td>-0.272337</td>\n",
       "      <td>-0.251419</td>\n",
       "      <td>0.0</td>\n",
       "    </tr>\n",
       "    <tr>\n",
       "      <th>3</th>\n",
       "      <td>4</td>\n",
       "      <td>3</td>\n",
       "      <td>1</td>\n",
       "      <td>2006</td>\n",
       "      <td>1998</td>\n",
       "      <td>AR</td>\n",
       "      <td>AR.41</td>\n",
       "      <td>AR.41.1</td>\n",
       "      <td>B</td>\n",
       "      <td>?</td>\n",
       "      <td>...</td>\n",
       "      <td>-0.971487</td>\n",
       "      <td>-1.405797</td>\n",
       "      <td>-0.837048</td>\n",
       "      <td>-1.176858</td>\n",
       "      <td>F</td>\n",
       "      <td>-0.231530</td>\n",
       "      <td>-0.266117</td>\n",
       "      <td>-0.272337</td>\n",
       "      <td>-0.251419</td>\n",
       "      <td>0.0</td>\n",
       "    </tr>\n",
       "    <tr>\n",
       "      <th>4</th>\n",
       "      <td>5</td>\n",
       "      <td>3</td>\n",
       "      <td>2</td>\n",
       "      <td>2005</td>\n",
       "      <td>2001</td>\n",
       "      <td>D</td>\n",
       "      <td>D.20</td>\n",
       "      <td>D.20.0</td>\n",
       "      <td>J</td>\n",
       "      <td>C</td>\n",
       "      <td>...</td>\n",
       "      <td>0.812656</td>\n",
       "      <td>2.112691</td>\n",
       "      <td>1.534462</td>\n",
       "      <td>2.347260</td>\n",
       "      <td>F</td>\n",
       "      <td>-0.231530</td>\n",
       "      <td>-0.266117</td>\n",
       "      <td>-0.272337</td>\n",
       "      <td>-0.251419</td>\n",
       "      <td>0.0</td>\n",
       "    </tr>\n",
       "    <tr>\n",
       "      <th>5</th>\n",
       "      <td>6</td>\n",
       "      <td>3</td>\n",
       "      <td>2</td>\n",
       "      <td>2006</td>\n",
       "      <td>2001</td>\n",
       "      <td>D</td>\n",
       "      <td>D.20</td>\n",
       "      <td>D.20.0</td>\n",
       "      <td>J</td>\n",
       "      <td>C</td>\n",
       "      <td>...</td>\n",
       "      <td>0.812656</td>\n",
       "      <td>2.112691</td>\n",
       "      <td>1.534462</td>\n",
       "      <td>2.347260</td>\n",
       "      <td>F</td>\n",
       "      <td>-0.231530</td>\n",
       "      <td>-0.266117</td>\n",
       "      <td>-0.272337</td>\n",
       "      <td>-0.251419</td>\n",
       "      <td>0.0</td>\n",
       "    </tr>\n",
       "    <tr>\n",
       "      <th>6</th>\n",
       "      <td>7</td>\n",
       "      <td>4</td>\n",
       "      <td>1</td>\n",
       "      <td>2006</td>\n",
       "      <td>2001</td>\n",
       "      <td>AJ</td>\n",
       "      <td>AJ.129</td>\n",
       "      <td>AJ.129.3</td>\n",
       "      <td>G</td>\n",
       "      <td>C</td>\n",
       "      <td>...</td>\n",
       "      <td>0.580718</td>\n",
       "      <td>0.551128</td>\n",
       "      <td>0.416289</td>\n",
       "      <td>-0.024395</td>\n",
       "      <td>M</td>\n",
       "      <td>-0.231530</td>\n",
       "      <td>-0.266117</td>\n",
       "      <td>-0.272337</td>\n",
       "      <td>-0.251419</td>\n",
       "      <td>0.0</td>\n",
       "    </tr>\n",
       "    <tr>\n",
       "      <th>7</th>\n",
       "      <td>8</td>\n",
       "      <td>4</td>\n",
       "      <td>2</td>\n",
       "      <td>2006</td>\n",
       "      <td>2002</td>\n",
       "      <td>AQ</td>\n",
       "      <td>AQ.17</td>\n",
       "      <td>AQ.17.1</td>\n",
       "      <td>B</td>\n",
       "      <td>C</td>\n",
       "      <td>...</td>\n",
       "      <td>0.527193</td>\n",
       "      <td>-0.023200</td>\n",
       "      <td>-0.701884</td>\n",
       "      <td>0.226664</td>\n",
       "      <td>M</td>\n",
       "      <td>-0.231530</td>\n",
       "      <td>-0.266117</td>\n",
       "      <td>-0.272337</td>\n",
       "      <td>-0.251419</td>\n",
       "      <td>0.0</td>\n",
       "    </tr>\n",
       "    <tr>\n",
       "      <th>8</th>\n",
       "      <td>9</td>\n",
       "      <td>4</td>\n",
       "      <td>3</td>\n",
       "      <td>2005</td>\n",
       "      <td>2002</td>\n",
       "      <td>AQ</td>\n",
       "      <td>AQ.17</td>\n",
       "      <td>AQ.17.1</td>\n",
       "      <td>B</td>\n",
       "      <td>C</td>\n",
       "      <td>...</td>\n",
       "      <td>0.527193</td>\n",
       "      <td>-0.023200</td>\n",
       "      <td>-0.701884</td>\n",
       "      <td>0.226664</td>\n",
       "      <td>M</td>\n",
       "      <td>-0.231530</td>\n",
       "      <td>-0.266117</td>\n",
       "      <td>-0.272337</td>\n",
       "      <td>-0.251419</td>\n",
       "      <td>0.0</td>\n",
       "    </tr>\n",
       "    <tr>\n",
       "      <th>9</th>\n",
       "      <td>10</td>\n",
       "      <td>5</td>\n",
       "      <td>1</td>\n",
       "      <td>2005</td>\n",
       "      <td>1995</td>\n",
       "      <td>BW</td>\n",
       "      <td>BW.3</td>\n",
       "      <td>BW.3.0</td>\n",
       "      <td>D</td>\n",
       "      <td>?</td>\n",
       "      <td>...</td>\n",
       "      <td>0.176312</td>\n",
       "      <td>0.283264</td>\n",
       "      <td>0.969232</td>\n",
       "      <td>-0.792339</td>\n",
       "      <td>N</td>\n",
       "      <td>2.054683</td>\n",
       "      <td>-0.266117</td>\n",
       "      <td>-0.272337</td>\n",
       "      <td>-0.251419</td>\n",
       "      <td>0.0</td>\n",
       "    </tr>\n",
       "  </tbody>\n",
       "</table>\n",
       "<p>10 rows × 35 columns</p>\n",
       "</div>"
      ],
      "text/plain": [
       "   Row_ID  Household_ID  Vehicle  Calendar_Year  Model_Year Blind_Make  \\\n",
       "0       1             1        3           2005        2005          K   \n",
       "1       2             2        2           2005        2003          Q   \n",
       "2       3             3        1           2005        1998         AR   \n",
       "3       4             3        1           2006        1998         AR   \n",
       "4       5             3        2           2005        2001          D   \n",
       "5       6             3        2           2006        2001          D   \n",
       "6       7             4        1           2006        2001         AJ   \n",
       "7       8             4        2           2006        2002         AQ   \n",
       "8       9             4        3           2005        2002         AQ   \n",
       "9      10             5        1           2005        1995         BW   \n",
       "\n",
       "  Blind_Model Blind_Submodel Cat1 Cat2     ...           Var5      Var6  \\\n",
       "0        K.78         K.78.2    D    C     ...       1.008912  0.261040   \n",
       "1        Q.22         Q.22.3    B    C     ...       1.240851  0.432987   \n",
       "2       AR.41        AR.41.1    B    ?     ...      -0.971487 -1.405797   \n",
       "3       AR.41        AR.41.1    B    ?     ...      -0.971487 -1.405797   \n",
       "4        D.20         D.20.0    J    C     ...       0.812656  2.112691   \n",
       "5        D.20         D.20.0    J    C     ...       0.812656  2.112691   \n",
       "6      AJ.129       AJ.129.3    G    C     ...       0.580718  0.551128   \n",
       "7       AQ.17        AQ.17.1    B    C     ...       0.527193 -0.023200   \n",
       "8       AQ.17        AQ.17.1    B    C     ...       0.527193 -0.023200   \n",
       "9        BW.3         BW.3.0    D    ?     ...       0.176312  0.283264   \n",
       "\n",
       "       Var7      Var8 NVCat    NVVar1    NVVar2    NVVar3    NVVar4  \\\n",
       "0  0.907793 -0.077998     M -0.231530 -0.266117 -0.272337 -0.251419   \n",
       "1 -0.726459  0.204785     O -0.231530 -0.266117 -0.272337 -0.251419   \n",
       "2 -0.837048 -1.176858     F -0.231530 -0.266117 -0.272337 -0.251419   \n",
       "3 -0.837048 -1.176858     F -0.231530 -0.266117 -0.272337 -0.251419   \n",
       "4  1.534462  2.347260     F -0.231530 -0.266117 -0.272337 -0.251419   \n",
       "5  1.534462  2.347260     F -0.231530 -0.266117 -0.272337 -0.251419   \n",
       "6  0.416289 -0.024395     M -0.231530 -0.266117 -0.272337 -0.251419   \n",
       "7 -0.701884  0.226664     M -0.231530 -0.266117 -0.272337 -0.251419   \n",
       "8 -0.701884  0.226664     M -0.231530 -0.266117 -0.272337 -0.251419   \n",
       "9  0.969232 -0.792339     N  2.054683 -0.266117 -0.272337 -0.251419   \n",
       "\n",
       "  Claim_Amount  \n",
       "0          0.0  \n",
       "1          0.0  \n",
       "2          0.0  \n",
       "3          0.0  \n",
       "4          0.0  \n",
       "5          0.0  \n",
       "6          0.0  \n",
       "7          0.0  \n",
       "8          0.0  \n",
       "9          0.0  \n",
       "\n",
       "[10 rows x 35 columns]"
      ]
     },
     "execution_count": 5,
     "metadata": {},
     "output_type": "execute_result"
    }
   ],
   "source": [
    "# load data\n",
    "df = pd.read_csv(data, nrows=1000000)\n",
    "df.head(10)"
   ]
  },
  {
   "cell_type": "code",
   "execution_count": 6,
   "metadata": {},
   "outputs": [
    {
     "name": "stdout",
     "output_type": "stream",
     "text": [
      "Index(['Row_ID', 'Household_ID', 'Vehicle', 'Calendar_Year', 'Model_Year',\n",
      "       'Blind_Make', 'Blind_Model', 'Blind_Submodel', 'Cat1', 'Cat2', 'Cat3',\n",
      "       'Cat4', 'Cat5', 'Cat6', 'Cat7', 'Cat8', 'Cat9', 'Cat10', 'Cat11',\n",
      "       'Cat12', 'OrdCat', 'Var1', 'Var2', 'Var3', 'Var4', 'Var5', 'Var6',\n",
      "       'Var7', 'Var8', 'NVCat', 'NVVar1', 'NVVar2', 'NVVar3', 'NVVar4',\n",
      "       'Claim_Amount'],\n",
      "      dtype='object')\n",
      "Index(['Row_ID', 'Household_ID', 'Vehicle', 'Calendar_Year', 'Model_Year',\n",
      "       'Blind_Make', 'Blind_Model', 'Blind_Submodel', 'Cat1', 'Cat2', 'Cat3',\n",
      "       'Cat4', 'Cat5', 'Cat6', 'Cat7', 'Cat8', 'Cat9', 'Cat10', 'Cat11',\n",
      "       'Cat12', 'OrdCat', 'Var1', 'Var2', 'Var3', 'Var4', 'Var5', 'Var6',\n",
      "       'Var7', 'Var8', 'NVCat', 'NVVar1', 'NVVar2', 'NVVar3', 'NVVar4'],\n",
      "      dtype='object')\n"
     ]
    }
   ],
   "source": [
    "print(df.columns)\n",
    "print(df_test.columns)"
   ]
  },
  {
   "cell_type": "code",
   "execution_count": 7,
   "metadata": {
    "collapsed": true
   },
   "outputs": [],
   "source": [
    "# dummy code claims\n",
    "df['claim'] = df.Claim_Amount.apply(lambda x: 0 if x == 0 else 1)"
   ]
  },
  {
   "cell_type": "code",
   "execution_count": 8,
   "metadata": {
    "collapsed": true
   },
   "outputs": [],
   "source": [
    "# separate feature matrix from labels (claims in {0 = No claim, 1 = Claim})\n",
    "# only continuous variables are included in the model\n",
    "X = df[['Var5', 'Var6', 'Var7', 'Var8', 'NVVar1', 'NVVar2', 'NVVar3', 'NVVar4']].values\n",
    "y = df['claim'].values"
   ]
  },
  {
   "cell_type": "code",
   "execution_count": 9,
   "metadata": {},
   "outputs": [
    {
     "name": "stdout",
     "output_type": "stream",
     "text": [
      "[[ 1.0089121  0.2610397  0.9077934 ..., -0.2661168 -0.2723372 -0.2514189]\n",
      " [ 1.2408507  0.4329871 -0.7264591 ..., -0.2661168 -0.2723372 -0.2514189]\n",
      " [-0.9714867 -1.4057974 -0.8370476 ..., -0.2661168 -0.2723372 -0.2514189]\n",
      " ..., \n",
      " [-0.8525439 -1.4151551 -1.0090742 ..., -0.2661168 -0.2723372 -0.2514189]\n",
      " [-0.8525439 -1.4151551 -1.0090742 ..., -0.2661168 -0.2723372 -0.2514189]\n",
      " [-0.8822796 -1.4771497 -1.2548265 ..., -0.2661168 -0.2723372 -0.2514189]]\n"
     ]
    }
   ],
   "source": [
    "print(X)"
   ]
  },
  {
   "cell_type": "code",
   "execution_count": 10,
   "metadata": {
    "collapsed": true
   },
   "outputs": [],
   "source": [
    "# split data into train and test sets\n",
    "X_train, X_test, y_train, y_test = train_test_split(X, y, test_size = 0.25, random_state = 42)"
   ]
  },
  {
   "cell_type": "code",
   "execution_count": 11,
   "metadata": {},
   "outputs": [
    {
     "name": "stdout",
     "output_type": "stream",
     "text": [
      "[[ 0.6164006  0.5511279  0.4162889 ..., -0.2661168 -0.2723372 -0.2514189]\n",
      " [-1.149901  -1.3613484 -0.9722114 ..., -0.2661168 -0.2723372 -0.2514189]\n",
      " [ 0.3547263  0.3616348  0.9938067 ..., -0.2661168  5.1057515 -0.2514189]\n",
      " ..., \n",
      " [ 0.1287348 -0.3647552 -0.8984857 ..., -0.2661168 -0.2723372 -0.2514189]\n",
      " [ 0.1644177  0.0072126 -0.8124724 ..., -0.2661168 -0.2723372 -0.2514189]\n",
      " [ 2.1745522  1.8085663  1.7064883 ..., -0.2661168 -0.2723372 -0.2514189]]\n"
     ]
    }
   ],
   "source": [
    "print(X_train)"
   ]
  },
  {
   "cell_type": "code",
   "execution_count": 12,
   "metadata": {
    "collapsed": true
   },
   "outputs": [],
   "source": [
    "# scale features to have same variance\n",
    "sc = StandardScaler()\n",
    "X_train = sc.fit_transform(X_train)\n",
    "X_test = sc.transform(X_test)"
   ]
  },
  {
   "cell_type": "code",
   "execution_count": 13,
   "metadata": {},
   "outputs": [
    {
     "data": {
      "text/plain": [
       "LogisticRegression(C=1.0, class_weight=None, dual=False, fit_intercept=True,\n",
       "          intercept_scaling=1, max_iter=100, multi_class='ovr', n_jobs=1,\n",
       "          penalty='l2', random_state=42, solver='liblinear', tol=0.0001,\n",
       "          verbose=0, warm_start=False)"
      ]
     },
     "execution_count": 13,
     "metadata": {},
     "output_type": "execute_result"
    }
   ],
   "source": [
    "# fit logistic regression model\n",
    "model = LogisticRegression(random_state=42)\n",
    "model.fit(X_train, y_train)"
   ]
  },
  {
   "cell_type": "code",
   "execution_count": 14,
   "metadata": {},
   "outputs": [
    {
     "name": "stdout",
     "output_type": "stream",
     "text": [
      "In-sample accuracy: 0.99194\n",
      "Out-of-sample accuracy: 0.99176\n"
     ]
    }
   ],
   "source": [
    "# get in and out of sample accuracy\n",
    "y_pred = model.predict(X_train)\n",
    "in_acc = accuracy_score(y_pred, y_train)\n",
    "y_pred = model.predict(X_test)\n",
    "out_acc = accuracy_score(y_pred, y_test)\n",
    "print('In-sample accuracy: {}\\nOut-of-sample accuracy: {}'.format(in_acc, out_acc))"
   ]
  },
  {
   "cell_type": "code",
   "execution_count": 15,
   "metadata": {},
   "outputs": [
    {
     "name": "stdout",
     "output_type": "stream",
     "text": [
      "==============================================================================\n",
      "==============================================================================\n"
     ]
    }
   ],
   "source": [
    "print(\"==============================================================================\")\n",
    "print(\"==============================================================================\")"
   ]
  },
  {
   "cell_type": "code",
   "execution_count": 16,
   "metadata": {},
   "outputs": [
    {
     "data": {
      "text/plain": [
       "'\\n# (1) we now have model of whether someone filed a claim or not\\n# (2) of those who did (claim=1), we need model of y = claim amount\\n\\nFull Model:\\na) given X, use (1) to assess if claim will be filed\\nb) if for (1), y = 1, then estimate claim amount using (2)\\n'"
      ]
     },
     "execution_count": 16,
     "metadata": {},
     "output_type": "execute_result"
    }
   ],
   "source": [
    "\"\"\"\n",
    "# (1) we now have model of whether someone filed a claim or not\n",
    "# (2) of those who did (claim=1), we need model of y = claim amount\n",
    "\n",
    "Full Model:\n",
    "a) given X, use (1) to assess if claim will be filed\n",
    "b) if for (1), y = 1, then estimate claim amount using (2)\n",
    "\"\"\""
   ]
  },
  {
   "cell_type": "code",
   "execution_count": 17,
   "metadata": {
    "collapsed": true
   },
   "outputs": [],
   "source": [
    "from sklearn.ensemble import RandomForestRegressor\n",
    "from sklearn.datasets import make_regression\n",
    "from sklearn.model_selection import KFold\n",
    "from sklearn.metrics import mean_squared_error\n",
    "from sklearn.model_selection import cross_val_score\n",
    "\n",
    "# get data for train set where claim=1\n",
    "df_claims = df[df['claim']==1]\n",
    "\n",
    "X_claims = df_claims[['Var5', 'Var6', 'Var7', 'Var8', 'NVVar1', 'NVVar2', 'NVVar3', 'NVVar4']].values\n",
    "y_claims = df_claims['Claim_Amount'].values\n",
    "\n",
    "\"\"\"\n",
    "# Random forests provide free cross-validation\n",
    "kf = KFold(n_splits=2)\n",
    "kf.get_n_splits(X_claims)\n",
    "\n",
    "print(kf)  \n",
    "\n",
    "for train_index, test_index in kf.split(X_claims):\n",
    "    print(\"TRAIN:\", train_index, \"TEST:\", test_index)\n",
    "    X_claims_train, X_claims_test = X_claims[train_index], X_claims[test_index]\n",
    "    y_claims_train, y_claims_test = y_claims[train_index], y_claims[test_index]\n",
    "\"\"\"\n",
    "\n",
    "X_claims_train, X_claims_test, y_claims_train, y_claims_test = \\\n",
    "                    train_test_split(X_claims, y_claims, test_size = 0.25, random_state = 42)\n",
    "    \n",
    "sc = StandardScaler()\n",
    "X_claims_train = sc.fit_transform(X_claims_train)\n",
    "X_claims_test = sc.transform(X_claims_test)"
   ]
  },
  {
   "cell_type": "code",
   "execution_count": 18,
   "metadata": {},
   "outputs": [
    {
     "name": "stdout",
     "output_type": "stream",
     "text": [
      "Accuracy: -0.05 (+/- 0.05)\n",
      "[ 0.13676609  0.20632711  0.16041709  0.33397543  0.04484945  0.05467583\n",
      "  0.0466511   0.0163379 ]\n",
      "[ 192.1696557   206.69372887  143.74793985 ...,  107.4150727   143.74793985\n",
      "  149.89417106]\n",
      "[  12.6273     335.4804       3.510095  ...,  381.7336      30.9326\n",
      "    0.6957895]\n",
      "140595.267086\n"
     ]
    }
   ],
   "source": [
    "#------------------------#\n",
    "# MODEL 1: Random Forest #\n",
    "#------------------------#\n",
    "\n",
    "regr = RandomForestRegressor(max_depth=8, random_state=42)\n",
    "\n",
    "scores = cross_val_score(regr, X_claims_train, y_claims_train, cv=5)\n",
    "print(\"Accuracy: %0.2f (+/- %0.2f)\" % (scores.mean(), scores.std() * 2))\n",
    "\n",
    "regr.fit(X_claims_train, y_claims_train)\n",
    "\n",
    "print(regr.feature_importances_)\n",
    "\n",
    "#-------------------------#\n",
    "y_claims_pred = regr.predict(X_claims_train)\n",
    "# need accuracy metric\n",
    "y_claims_pred = regr.predict(X_claims_test)\n",
    "# need accuracy metric\n",
    "# print('In-sample accuracy: {}\\nOut-of-sample accuracy: {}'.format(in_acc, out_acc))\n",
    "#-------------------------#\n",
    "\n",
    "print(y_claims_pred)\n",
    "print(y_claims_test)\n",
    "\n",
    "print(mean_squared_error(y_claims_test, y_claims_pred))"
   ]
  },
  {
   "cell_type": "code",
   "execution_count": 19,
   "metadata": {},
   "outputs": [
    {
     "name": "stdout",
     "output_type": "stream",
     "text": [
      "Accuracy: -0.46 (+/- 0.23)\n"
     ]
    }
   ],
   "source": [
    "from sklearn.ensemble import ExtraTreesRegressor\n",
    "\n",
    "clf_extratrees = ExtraTreesRegressor(n_estimators=8, max_depth=None,\n",
    "     min_samples_split=2, random_state=0)\n",
    "scores_extratrees = cross_val_score(clf_extratrees, X_claims_train, y_claims_train, cv=5)\n",
    "print(\"Accuracy: %0.2f (+/- %0.2f)\" % (scores_extratrees.mean(), scores_extratrees.std() * 2))"
   ]
  },
  {
   "cell_type": "code",
   "execution_count": 20,
   "metadata": {},
   "outputs": [
    {
     "name": "stdout",
     "output_type": "stream",
     "text": [
      "Accuracy: -0.49 (+/- 0.57)\n"
     ]
    }
   ],
   "source": [
    "from sklearn.datasets import load_iris\n",
    "from sklearn.ensemble import AdaBoostRegressor\n",
    "\n",
    "iris = load_iris()\n",
    "clf_adaboostr = AdaBoostRegressor(n_estimators=100)\n",
    "scores_adaboostr = cross_val_score(clf_adaboostr, X_claims_train, y_claims_train, cv=5)\n",
    "print(\"Accuracy: %0.2f (+/- %0.2f)\" % (scores_adaboostr.mean(), scores_adaboostr.std() * 2))"
   ]
  },
  {
   "cell_type": "code",
   "execution_count": 21,
   "metadata": {},
   "outputs": [
    {
     "name": "stdout",
     "output_type": "stream",
     "text": [
      "Accuracy: -0.23 (+/- 0.09)\n"
     ]
    },
    {
     "data": {
      "text/plain": [
       "156627.00885784245"
      ]
     },
     "execution_count": 21,
     "metadata": {},
     "output_type": "execute_result"
    }
   ],
   "source": [
    "from sklearn.ensemble import GradientBoostingRegressor\n",
    "\n",
    "est = GradientBoostingRegressor(n_estimators=8, learning_rate=.5,\n",
    "     max_depth=8, random_state=0).fit(X_claims_train, y_claims_train)\n",
    "\n",
    "scores_gradboost = cross_val_score(est, X_claims_train, y_claims_train, cv=5)\n",
    "print(\"Accuracy: %0.2f (+/- %0.2f)\" % (scores_gradboost.mean(), scores_gradboost.std() * 2))\n",
    "\n",
    "mean_squared_error(y_claims_test, est.predict(X_claims_test))"
   ]
  },
  {
   "cell_type": "code",
   "execution_count": 22,
   "metadata": {},
   "outputs": [
    {
     "name": "stdout",
     "output_type": "stream",
     "text": [
      "Accuracy: -0.78 (+/- 0.09)\n"
     ]
    }
   ],
   "source": [
    "from sklearn.neighbors import KNeighborsRegressor\n",
    "\n",
    "neigh = KNeighborsRegressor(n_neighbors=2)    # 2 is the best number of K\n",
    "scores_neigh = cross_val_score(neigh, X_claims_train, y_claims_train, cv=50)\n",
    "print(\"Accuracy: %0.2f (+/- %0.2f)\" % (scores_neigh.mean(), scores_gradboost.std() * 2))\n",
    "# neigh.fit(X, y)"
   ]
  },
  {
   "cell_type": "code",
   "execution_count": null,
   "metadata": {
    "collapsed": true
   },
   "outputs": [],
   "source": []
  }
 ],
 "metadata": {
  "anaconda-cloud": {},
  "kernelspec": {
   "display_name": "Python 3",
   "language": "python",
   "name": "python3"
  },
  "language_info": {
   "codemirror_mode": {
    "name": "ipython",
    "version": 3
   },
   "file_extension": ".py",
   "mimetype": "text/x-python",
   "name": "python",
   "nbconvert_exporter": "python",
   "pygments_lexer": "ipython3",
   "version": "3.6.3"
  },
  "nbpresent": {
   "slides": {},
   "themes": {
    "default": "a151beb9-8a80-441f-a3f7-55037187b072",
    "theme": {}
   }
  }
 },
 "nbformat": 4,
 "nbformat_minor": 2
}
