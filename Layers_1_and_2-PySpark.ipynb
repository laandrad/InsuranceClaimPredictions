{
 "cells": [
  {
   "cell_type": "markdown",
   "metadata": {},
   "source": [
    "## Load packages"
   ]
  },
  {
   "cell_type": "code",
   "execution_count": 13,
   "metadata": {
    "collapsed": true
   },
   "outputs": [],
   "source": [
    "import pyspark as ps\n",
    "from pyspark.sql.functions import udf, col\n",
    "from pyspark.sql.types import DoubleType\n",
    "from pyspark.ml.tuning import TrainValidationSplit\n",
    "from pyspark.sql.functions import lit\n",
    "\n",
    "spark = ps.sql.SparkSession.builder \\\n",
    "            .master(\"local[4]\") \\\n",
    "            .appName(\"df lecture\") \\\n",
    "            .getOrCreate()"
   ]
  },
  {
   "cell_type": "markdown",
   "metadata": {},
   "source": [
    "## Load and Preprocess Data "
   ]
  },
  {
   "cell_type": "code",
   "execution_count": 4,
   "metadata": {},
   "outputs": [
    {
     "name": "stdout",
     "output_type": "stream",
     "text": [
      "number of lines: 13184290\n",
      "root\n",
      " |-- Row_ID: integer (nullable = true)\n",
      " |-- Household_ID: integer (nullable = true)\n",
      " |-- Vehicle: integer (nullable = true)\n",
      " |-- Calendar_Year: integer (nullable = true)\n",
      " |-- Model_Year: integer (nullable = true)\n",
      " |-- Blind_Make: string (nullable = true)\n",
      " |-- Blind_Model: string (nullable = true)\n",
      " |-- Blind_Submodel: string (nullable = true)\n",
      " |-- Cat1: string (nullable = true)\n",
      " |-- Cat2: string (nullable = true)\n",
      " |-- Cat3: string (nullable = true)\n",
      " |-- Cat4: string (nullable = true)\n",
      " |-- Cat5: string (nullable = true)\n",
      " |-- Cat6: string (nullable = true)\n",
      " |-- Cat7: string (nullable = true)\n",
      " |-- Cat8: string (nullable = true)\n",
      " |-- Cat9: string (nullable = true)\n",
      " |-- Cat10: string (nullable = true)\n",
      " |-- Cat11: string (nullable = true)\n",
      " |-- Cat12: string (nullable = true)\n",
      " |-- OrdCat: string (nullable = true)\n",
      " |-- Var1: double (nullable = true)\n",
      " |-- Var2: double (nullable = true)\n",
      " |-- Var3: double (nullable = true)\n",
      " |-- Var4: double (nullable = true)\n",
      " |-- Var5: double (nullable = true)\n",
      " |-- Var6: double (nullable = true)\n",
      " |-- Var7: double (nullable = true)\n",
      " |-- Var8: double (nullable = true)\n",
      " |-- NVCat: string (nullable = true)\n",
      " |-- NVVar1: double (nullable = true)\n",
      " |-- NVVar2: double (nullable = true)\n",
      " |-- NVVar3: double (nullable = true)\n",
      " |-- NVVar4: double (nullable = true)\n",
      " |-- Claim_Amount: double (nullable = true)\n",
      "\n"
     ]
    },
    {
     "data": {
      "text/plain": [
       "DataFrame[summary: string, Claim_Amount: string]"
      ]
     },
     "execution_count": 4,
     "metadata": {},
     "output_type": "execute_result"
    }
   ],
   "source": [
    "data='/Users/alejandro/AnacondaProjects/Actuary Data/train_set.csv'\n",
    "df = spark.read.csv(data,\n",
    "                   header=True,\n",
    "                   sep=',',\n",
    "                   inferSchema=True)"
   ]
  },
  {
   "cell_type": "code",
   "execution_count": null,
   "metadata": {
    "collapsed": true
   },
   "outputs": [],
   "source": [
    "print('number of lines:', df.count())\n",
    "df.printSchema()"
   ]
  },
  {
   "cell_type": "code",
   "execution_count": 35,
   "metadata": {},
   "outputs": [
    {
     "name": "stdout",
     "output_type": "stream",
     "text": [
      "+-------+------------------+\n",
      "|summary|      Claim_Amount|\n",
      "+-------+------------------+\n",
      "|  count|          13184290|\n",
      "|   mean|1.3606584183791504|\n",
      "| stddev|39.001034745080645|\n",
      "|    min|               0.0|\n",
      "|    max|          11440.75|\n",
      "+-------+------------------+\n",
      "\n"
     ]
    }
   ],
   "source": [
    "df.describe('Claim_Amount').show()"
   ]
  },
  {
   "cell_type": "code",
   "execution_count": 39,
   "metadata": {},
   "outputs": [
    {
     "name": "stdout",
     "output_type": "stream",
     "text": [
      "+------+------------+-------+-------------+----------+----------+-----------+--------------+----+----+----+----+----+----+----+----+----+-----+-----+-----+------+---------+---------+---------+---------+---------+---------+---------+---------+-----+----------+----------+----------+----------+------------+-----+---------+\n",
      "|Row_ID|Household_ID|Vehicle|Calendar_Year|Model_Year|Blind_Make|Blind_Model|Blind_Submodel|Cat1|Cat2|Cat3|Cat4|Cat5|Cat6|Cat7|Cat8|Cat9|Cat10|Cat11|Cat12|OrdCat|     Var1|     Var2|     Var3|     Var4|     Var5|     Var6|     Var7|     Var8|NVCat|    NVVar1|    NVVar2|    NVVar3|    NVVar4|Claim_Amount|claim|model_min|\n",
      "+------+------------+-------+-------------+----------+----------+-----------+--------------+----+----+----+----+----+----+----+----+----+-----+-----+-----+------+---------+---------+---------+---------+---------+---------+---------+---------+-----+----------+----------+----------+----------+------------+-----+---------+\n",
      "|     1|           1|      3|         2005|        24|         K|       K.78|        K.78.2|   D|   C|   F|   ?|   ?|   C|   ?|   C|   A|    B|    F|    D|     4|1.2705325|0.9994181|0.5881536|0.9083511|1.0089121|0.2610397|0.9077934|-0.077998|    M|-0.2315299|-0.2661168|-0.2723372|-0.2514189|         0.0|    0|        0|\n",
      "+------+------------+-------+-------------+----------+----------+-----------+--------------+----+----+----+----+----+----+----+----+----+-----+-----+-----+------+---------+---------+---------+---------+---------+---------+---------+---------+-----+----------+----------+----------+----------+------------+-----+---------+\n",
      "only showing top 1 row\n",
      "\n"
     ]
    }
   ],
   "source": [
    "dummy_udf = udf(lambda x: 0 if x == 0 else 1)\n",
    "min_mod_year = df.agg({'Model_Year': 'min'}).collect()[0][0]\n",
    "df = df.withColumn('model_min', lit(min_mod_year))\\\n",
    "       .withColumn('claim', dummy_udf(col('Claim_Amount')).cast(\"integer\"))\\\n",
    "       .withColumn('Model_Year', col('Model_Year') - col('model_min'))\n",
    "df.show(1)"
   ]
  },
  {
   "cell_type": "code",
   "execution_count": 40,
   "metadata": {},
   "outputs": [],
   "source": [
    "X = df.select(['Var5', 'Var6', 'Var7', 'Var8', 'NVVar1', 'NVVar2', 'NVVar3', 'NVVar4', 'Vehicle', 'Model_Year', 'Blind_Submodel'])\n",
    "y = df.select(['claim', 'Claim_Amount'])"
   ]
  },
  {
   "cell_type": "code",
   "execution_count": 41,
   "metadata": {},
   "outputs": [],
   "source": [
    "# split data into train and test sets\n",
    "X_train, X_test = X.randomSplit([0.9, 0.1], seed=42)\n",
    "y_train, y_test = y.randomSplit([0.9, 0.1], seed=42)"
   ]
  },
  {
   "cell_type": "code",
   "execution_count": 73,
   "metadata": {},
   "outputs": [],
   "source": [
    "cont = [x.name for x in X.schema.fields if x.dataType == DoubleType()]\n",
    "cat = [x.name for x in X.schema.fields if x.dataType != DoubleType()]"
   ]
  },
  {
   "cell_type": "code",
   "execution_count": 72,
   "metadata": {},
   "outputs": [
    {
     "name": "stdout",
     "output_type": "stream",
     "text": [
      "+--------------------+--------------------+\n",
      "|           cont_feat|      scaledFeatures|\n",
      "+--------------------+--------------------+\n",
      "|[-3.3503442,-1.28...|[-3.3806127839951...|\n",
      "|[-3.3503442,-1.28...|[-3.3806127839951...|\n",
      "|[-3.3503442,-1.28...|[-3.3806127839951...|\n",
      "|[-3.3503442,-1.28...|[-3.3806127839951...|\n",
      "|[-3.3503442,-1.28...|[-3.3806127839951...|\n",
      "+--------------------+--------------------+\n",
      "only showing top 5 rows\n",
      "\n"
     ]
    }
   ],
   "source": [
    "from pyspark.ml.feature import VectorAssembler, StandardScaler\n",
    "\n",
    "assembler_cont = VectorAssembler(inputCols=cont, outputCol='cont_feat')\n",
    "\n",
    "X_train_cont = assembler_cont.transform(X_train).select('cont_feat')\n",
    "scaler = StandardScaler(inputCol=\"cont_feat\", outputCol=\"scaledFeatures\",\n",
    "                        withStd=True, withMean=False)\n",
    "scalerModel = scaler.fit(X_train_cont)\n",
    "X_train_cont = scalerModel.transform(X_train_cont).select('scaledFeatures')\n",
    "X_train_cont.show(5)"
   ]
  },
  {
   "cell_type": "code",
   "execution_count": 98,
   "metadata": {},
   "outputs": [
    {
     "name": "stdout",
     "output_type": "stream",
     "text": [
      "+----------+----------+---------+----------+----------+----------+----------+----------+-------+----------+--------------+--------+-------------------+\n",
      "|      Var5|      Var6|     Var7|      Var8|    NVVar1|    NVVar2|    NVVar3|    NVVar4|Vehicle|Model_Year|Blind_Submodel|catIndex|       carModelVect|\n",
      "+----------+----------+---------+----------+----------+----------+----------+----------+-------+----------+--------------+--------+-------------------+\n",
      "|-3.3503442|-1.2829778|0.6006031|-1.6112602|-0.2315299|-0.2661168|-0.2723372|-0.2514189|      1|         1|        W.14.0|  1239.0|(2733,[1239],[1.0])|\n",
      "|-3.3503442|-1.2829778|0.6006031|-1.6112602|-0.2315299|-0.2661168|-0.2723372|-0.2514189|      1|         1|        W.14.0|  1239.0|(2733,[1239],[1.0])|\n",
      "|-3.3503442|-1.2829778|0.6006031|-1.6112602|-0.2315299|-0.2661168|-0.2723372|-0.2514189|      2|         1|        W.14.0|  1239.0|(2733,[1239],[1.0])|\n",
      "|-3.3503442|-1.2829778|0.6006031|-1.6112602|-0.2315299|-0.2661168|-0.2723372|-0.2514189|      2|         1|        W.14.0|  1239.0|(2733,[1239],[1.0])|\n",
      "|-3.3503442|-1.2829778|0.6006031|-1.6112602|-0.2315299|-0.2661168|-0.2723372|-0.2514189|      2|         1|        W.14.0|  1239.0|(2733,[1239],[1.0])|\n",
      "+----------+----------+---------+----------+----------+----------+----------+----------+-------+----------+--------------+--------+-------------------+\n",
      "only showing top 5 rows\n",
      "\n"
     ]
    }
   ],
   "source": [
    "from pyspark.ml.feature import OneHotEncoder, StringIndexer\n",
    "\n",
    "stringIndexer = StringIndexer(inputCol='Blind_Submodel', \n",
    "                              outputCol='catIndex')\n",
    "model = stringIndexer.fit(X_train)\n",
    "X_train = model.transform(X_train)\n",
    "\n",
    "encoder = OneHotEncoder(inputCol='catIndex', outputCol='carModelVect')\n",
    "X_train = encoder.transform(indexed)"
   ]
  },
  {
   "cell_type": "code",
   "execution_count": 102,
   "metadata": {},
   "outputs": [
    {
     "name": "stdout",
     "output_type": "stream",
     "text": [
      "+--------------------+\n",
      "|            cat_feat|\n",
      "+--------------------+\n",
      "|(2735,[0,1,1241],...|\n",
      "|(2735,[0,1,1241],...|\n",
      "|(2735,[0,1,1241],...|\n",
      "|(2735,[0,1,1241],...|\n",
      "|(2735,[0,1,1241],...|\n",
      "+--------------------+\n",
      "only showing top 5 rows\n",
      "\n"
     ]
    }
   ],
   "source": [
    "assembler_cat = VectorAssembler(inputCols=['Vehicle', 'Model_Year', 'carModelVect'], \n",
    "                                           outputCol='cat_feat')\n",
    "X_train_cat = assembler_cat.transform(X_train).select('cat_feat') \n",
    "X_train_cat.show(5)"
   ]
  },
  {
   "cell_type": "code",
   "execution_count": 7,
   "metadata": {
    "scrolled": true
   },
   "outputs": [
    {
     "name": "stderr",
     "output_type": "stream",
     "text": [
      "/anaconda3/lib/python3.6/site-packages/ipykernel_launcher.py:15: FutureWarning: reshape is deprecated and will raise in a subsequent release. Please use .values.reshape(...) instead\n",
      "  from ipykernel import kernelapp as app\n",
      "/anaconda3/lib/python3.6/site-packages/sklearn/preprocessing/label.py:111: DataConversionWarning: A column-vector y was passed when a 1d array was expected. Please change the shape of y to (n_samples, ), for example using ravel().\n",
      "  y = column_or_1d(y, warn=True)\n"
     ]
    }
   ],
   "source": [
    "def pipeline(X):\n",
    "    df_cont = pd.DataFrame()\n",
    "    df_cat = pd.DataFrame()\n",
    "    for x in X:\n",
    "        if X[x].dtypes == 'float64':\n",
    "            df_cont['{}'.format(x)] = X[x]\n",
    "        else:\n",
    "            df_cat['{}'.format(x)] = X[x]\n",
    "    \n",
    "    dummy = OneHotEncoder()\n",
    "    dummyC = LabelEncoder()\n",
    "    \n",
    "    df_cat2 = np.zeros((df_cat.shape[0], 1))\n",
    "    for x in df_cat:\n",
    "        y = dummyC.fit_transform(df_cat[x].reshape(-1, 1))\n",
    "        y = dummy.fit_transform(y.reshape(-1, 1)).toarray()\n",
    "        y = pd.DataFrame(y[:, 1:])\n",
    "        df_cat2 = np.hstack((df_cat2, y))\n",
    "    df_cat = pd.DataFrame(df_cat2)\n",
    "    \n",
    "    pca = PCA(n_components=10)\n",
    "    pca.fit_transform(df_cat)\n",
    "    k = np.argmax(np.cumsum(pca.explained_variance_ratio_) > 0.95) + 1\n",
    "    pca = PCA(n_components=k)\n",
    "    df_cat_pca = pca.fit_transform(df_cat)\n",
    "    df_cat = pd.DataFrame(df_cat_pca)\n",
    "    \n",
    "    return df_cont, df_cat\n",
    "\n",
    "X_train_cont, X_train_cat = pipeline(X_train)\n",
    "X_test_cont, X_test_cat = pipeline(X_test)"
   ]
  },
  {
   "cell_type": "code",
   "execution_count": 8,
   "metadata": {
    "collapsed": true
   },
   "outputs": [],
   "source": [
    "# scale features to have same variance\n",
    "sc = StandardScaler()\n",
    "X_train_cont = sc.fit_transform(X_train_cont)\n",
    "X_test_cont = sc.transform(X_test_cont)"
   ]
  },
  {
   "cell_type": "markdown",
   "metadata": {},
   "source": [
    "## Layer 1 - classify claim or no claim using a logistic regression"
   ]
  },
  {
   "cell_type": "code",
   "execution_count": 9,
   "metadata": {},
   "outputs": [
    {
     "data": {
      "text/plain": [
       "LogisticRegression(C=1.0, class_weight=None, dual=False, fit_intercept=True,\n",
       "          intercept_scaling=1, max_iter=100, multi_class='ovr', n_jobs=1,\n",
       "          penalty='l2', random_state=42, solver='liblinear', tol=0.0001,\n",
       "          verbose=0, warm_start=False)"
      ]
     },
     "execution_count": 9,
     "metadata": {},
     "output_type": "execute_result"
    }
   ],
   "source": [
    "# fit logistic regression model\n",
    "model = LogisticRegression(random_state=42)\n",
    "model.fit(X_train_cont, y_train[:,0])"
   ]
  },
  {
   "cell_type": "code",
   "execution_count": 10,
   "metadata": {},
   "outputs": [
    {
     "name": "stdout",
     "output_type": "stream",
     "text": [
      "In-sample accuracy: 0.99396\n",
      "Out-of-sample accuracy: 0.99336\n"
     ]
    }
   ],
   "source": [
    "# get in and out of sample accuracy\n",
    "y_pred = model.predict(X_train_cont)\n",
    "in_acc = accuracy_score(y_pred, y_train[:,0])\n",
    "y_pred = model.predict(X_test_cont)\n",
    "out_acc = accuracy_score(y_pred, y_test[:,0])\n",
    "print('In-sample accuracy: {}\\nOut-of-sample accuracy: {}'.format(in_acc, out_acc))"
   ]
  },
  {
   "cell_type": "markdown",
   "metadata": {},
   "source": [
    "## Layer 2 - predict claim value using a OLS multiple regression"
   ]
  },
  {
   "cell_type": "code",
   "execution_count": 11,
   "metadata": {},
   "outputs": [
    {
     "data": {
      "text/html": [
       "<div>\n",
       "<style scoped>\n",
       "    .dataframe tbody tr th:only-of-type {\n",
       "        vertical-align: middle;\n",
       "    }\n",
       "\n",
       "    .dataframe tbody tr th {\n",
       "        vertical-align: top;\n",
       "    }\n",
       "\n",
       "    .dataframe thead th {\n",
       "        text-align: right;\n",
       "    }\n",
       "</style>\n",
       "<table border=\"1\" class=\"dataframe\">\n",
       "  <thead>\n",
       "    <tr style=\"text-align: right;\">\n",
       "      <th></th>\n",
       "      <th>0</th>\n",
       "      <th>0</th>\n",
       "      <th>1</th>\n",
       "      <th>2</th>\n",
       "      <th>3</th>\n",
       "      <th>4</th>\n",
       "      <th>5</th>\n",
       "      <th>6</th>\n",
       "      <th>7</th>\n",
       "      <th>8</th>\n",
       "    </tr>\n",
       "  </thead>\n",
       "  <tbody>\n",
       "    <tr>\n",
       "      <th>0</th>\n",
       "      <td>-0.243031</td>\n",
       "      <td>-0.284310</td>\n",
       "      <td>-0.794956</td>\n",
       "      <td>-0.960135</td>\n",
       "      <td>-0.240450</td>\n",
       "      <td>-0.241578</td>\n",
       "      <td>-0.250954</td>\n",
       "      <td>-0.250451</td>\n",
       "      <td>-0.273503</td>\n",
       "      <td>-1.036118</td>\n",
       "    </tr>\n",
       "    <tr>\n",
       "      <th>1</th>\n",
       "      <td>-0.244402</td>\n",
       "      <td>-0.898833</td>\n",
       "      <td>-1.251674</td>\n",
       "      <td>-0.911298</td>\n",
       "      <td>-0.767011</td>\n",
       "      <td>-0.241578</td>\n",
       "      <td>-0.250954</td>\n",
       "      <td>-0.250451</td>\n",
       "      <td>-0.273503</td>\n",
       "      <td>0.274880</td>\n",
       "    </tr>\n",
       "    <tr>\n",
       "      <th>2</th>\n",
       "      <td>-0.244075</td>\n",
       "      <td>-0.242547</td>\n",
       "      <td>-0.727650</td>\n",
       "      <td>-0.923507</td>\n",
       "      <td>-0.335940</td>\n",
       "      <td>-0.241578</td>\n",
       "      <td>-0.250954</td>\n",
       "      <td>-0.250451</td>\n",
       "      <td>-0.273503</td>\n",
       "      <td>-0.474262</td>\n",
       "    </tr>\n",
       "    <tr>\n",
       "      <th>3</th>\n",
       "      <td>-0.243371</td>\n",
       "      <td>-0.129188</td>\n",
       "      <td>-0.581020</td>\n",
       "      <td>-0.825833</td>\n",
       "      <td>-0.393234</td>\n",
       "      <td>-0.241578</td>\n",
       "      <td>-0.250954</td>\n",
       "      <td>-0.250451</td>\n",
       "      <td>-0.273503</td>\n",
       "      <td>0.649451</td>\n",
       "    </tr>\n",
       "    <tr>\n",
       "      <th>4</th>\n",
       "      <td>0.715685</td>\n",
       "      <td>-1.811668</td>\n",
       "      <td>-0.935577</td>\n",
       "      <td>-1.509552</td>\n",
       "      <td>1.285262</td>\n",
       "      <td>5.841606</td>\n",
       "      <td>-0.250954</td>\n",
       "      <td>-0.250451</td>\n",
       "      <td>-0.273503</td>\n",
       "      <td>0.462166</td>\n",
       "    </tr>\n",
       "  </tbody>\n",
       "</table>\n",
       "</div>"
      ],
      "text/plain": [
       "          0         0         1         2         3         4         5  \\\n",
       "0 -0.243031 -0.284310 -0.794956 -0.960135 -0.240450 -0.241578 -0.250954   \n",
       "1 -0.244402 -0.898833 -1.251674 -0.911298 -0.767011 -0.241578 -0.250954   \n",
       "2 -0.244075 -0.242547 -0.727650 -0.923507 -0.335940 -0.241578 -0.250954   \n",
       "3 -0.243371 -0.129188 -0.581020 -0.825833 -0.393234 -0.241578 -0.250954   \n",
       "4  0.715685 -1.811668 -0.935577 -1.509552  1.285262  5.841606 -0.250954   \n",
       "\n",
       "          6         7         8  \n",
       "0 -0.250451 -0.273503 -1.036118  \n",
       "1 -0.250451 -0.273503  0.274880  \n",
       "2 -0.250451 -0.273503 -0.474262  \n",
       "3 -0.250451 -0.273503  0.649451  \n",
       "4 -0.250451 -0.273503  0.462166  "
      ]
     },
     "execution_count": 11,
     "metadata": {},
     "output_type": "execute_result"
    }
   ],
   "source": [
    "X_train_layer2 = pd.concat([X_train_cat, pd.DataFrame(X_train_cont)], axis=1)\n",
    "X_train_layer2.head()"
   ]
  },
  {
   "cell_type": "code",
   "execution_count": 12,
   "metadata": {},
   "outputs": [
    {
     "data": {
      "text/html": [
       "<div>\n",
       "<style scoped>\n",
       "    .dataframe tbody tr th:only-of-type {\n",
       "        vertical-align: middle;\n",
       "    }\n",
       "\n",
       "    .dataframe tbody tr th {\n",
       "        vertical-align: top;\n",
       "    }\n",
       "\n",
       "    .dataframe thead th {\n",
       "        text-align: right;\n",
       "    }\n",
       "</style>\n",
       "<table border=\"1\" class=\"dataframe\">\n",
       "  <thead>\n",
       "    <tr style=\"text-align: right;\">\n",
       "      <th></th>\n",
       "      <th>0</th>\n",
       "      <th>0</th>\n",
       "      <th>1</th>\n",
       "      <th>2</th>\n",
       "      <th>3</th>\n",
       "      <th>4</th>\n",
       "      <th>5</th>\n",
       "      <th>6</th>\n",
       "      <th>7</th>\n",
       "      <th>8</th>\n",
       "    </tr>\n",
       "  </thead>\n",
       "  <tbody>\n",
       "    <tr>\n",
       "      <th>0</th>\n",
       "      <td>-0.235519</td>\n",
       "      <td>0.443571</td>\n",
       "      <td>-0.338238</td>\n",
       "      <td>-0.691531</td>\n",
       "      <td>-0.134639</td>\n",
       "      <td>-0.241578</td>\n",
       "      <td>-0.250954</td>\n",
       "      <td>-0.250451</td>\n",
       "      <td>-0.273503</td>\n",
       "      <td>0.462166</td>\n",
       "    </tr>\n",
       "    <tr>\n",
       "      <th>1</th>\n",
       "      <td>-0.232630</td>\n",
       "      <td>2.006726</td>\n",
       "      <td>1.701370</td>\n",
       "      <td>1.701484</td>\n",
       "      <td>1.130460</td>\n",
       "      <td>-0.241578</td>\n",
       "      <td>2.466872</td>\n",
       "      <td>-0.250451</td>\n",
       "      <td>-0.273503</td>\n",
       "      <td>0.649451</td>\n",
       "    </tr>\n",
       "    <tr>\n",
       "      <th>2</th>\n",
       "      <td>-0.233142</td>\n",
       "      <td>-0.695981</td>\n",
       "      <td>-1.168744</td>\n",
       "      <td>-1.216530</td>\n",
       "      <td>-0.809596</td>\n",
       "      <td>-0.241578</td>\n",
       "      <td>-0.250954</td>\n",
       "      <td>-0.250451</td>\n",
       "      <td>-0.273503</td>\n",
       "      <td>0.462166</td>\n",
       "    </tr>\n",
       "    <tr>\n",
       "      <th>3</th>\n",
       "      <td>-0.231103</td>\n",
       "      <td>2.084287</td>\n",
       "      <td>1.239844</td>\n",
       "      <td>1.335206</td>\n",
       "      <td>0.752413</td>\n",
       "      <td>-0.241578</td>\n",
       "      <td>-0.250954</td>\n",
       "      <td>-0.250451</td>\n",
       "      <td>-0.273503</td>\n",
       "      <td>-0.099691</td>\n",
       "    </tr>\n",
       "    <tr>\n",
       "      <th>4</th>\n",
       "      <td>-0.291486</td>\n",
       "      <td>-0.505061</td>\n",
       "      <td>-0.656739</td>\n",
       "      <td>-0.654903</td>\n",
       "      <td>0.123956</td>\n",
       "      <td>-0.241578</td>\n",
       "      <td>-0.250954</td>\n",
       "      <td>-0.250451</td>\n",
       "      <td>-0.273503</td>\n",
       "      <td>0.274880</td>\n",
       "    </tr>\n",
       "  </tbody>\n",
       "</table>\n",
       "</div>"
      ],
      "text/plain": [
       "          0         0         1         2         3         4         5  \\\n",
       "0 -0.235519  0.443571 -0.338238 -0.691531 -0.134639 -0.241578 -0.250954   \n",
       "1 -0.232630  2.006726  1.701370  1.701484  1.130460 -0.241578  2.466872   \n",
       "2 -0.233142 -0.695981 -1.168744 -1.216530 -0.809596 -0.241578 -0.250954   \n",
       "3 -0.231103  2.084287  1.239844  1.335206  0.752413 -0.241578 -0.250954   \n",
       "4 -0.291486 -0.505061 -0.656739 -0.654903  0.123956 -0.241578 -0.250954   \n",
       "\n",
       "          6         7         8  \n",
       "0 -0.250451 -0.273503  0.462166  \n",
       "1 -0.250451 -0.273503  0.649451  \n",
       "2 -0.250451 -0.273503  0.462166  \n",
       "3 -0.250451 -0.273503 -0.099691  \n",
       "4 -0.250451 -0.273503  0.274880  "
      ]
     },
     "execution_count": 12,
     "metadata": {},
     "output_type": "execute_result"
    }
   ],
   "source": [
    "X_test_layer2 = pd.concat([X_test_cat, pd.DataFrame(X_test_cont)], axis=1)\n",
    "X_test_layer2.head()"
   ]
  },
  {
   "cell_type": "code",
   "execution_count": 13,
   "metadata": {
    "collapsed": true
   },
   "outputs": [],
   "source": [
    "X_train_claims = X_train_layer2[y_train[:,0] == 1]\n",
    "y_train_claims = y_train[y_train[:,1] != 0, 1]\n",
    "y_train_claims = np.log(1 + y_train_claims)\n",
    "\n",
    "X_test_claims = X_test_layer2[y_test[:,0] == 1]\n",
    "y_test_claims = y_test[y_test[:,1] != 0, 1]\n",
    "y_test_claims = np.log(1 + y_test_claims)"
   ]
  },
  {
   "cell_type": "code",
   "execution_count": 14,
   "metadata": {},
   "outputs": [
    {
     "data": {
      "text/plain": [
       "(array([ 12.,  34.,  59.,  83.,  84.,  63.,  53.,  44.,  16.,   5.]),\n",
       " array([ 0.21583112,  0.99223397,  1.76863683,  2.54503968,  3.32144253,\n",
       "         4.09784539,  4.87424824,  5.65065109,  6.42705394,  7.2034568 ,\n",
       "         7.97985965]),\n",
       " <a list of 10 Patch objects>)"
      ]
     },
     "execution_count": 14,
     "metadata": {},
     "output_type": "execute_result"
    },
    {
     "data": {
      "image/png": "[encoded data removed]",
      "text/plain": [
       "<matplotlib.figure.Figure at 0x1a1c0a96d8>"
      ]
     },
     "metadata": {},
     "output_type": "display_data"
    }
   ],
   "source": [
    "plt.hist(y_train_claims)"
   ]
  },
  {
   "cell_type": "code",
   "execution_count": 15,
   "metadata": {},
   "outputs": [
    {
     "name": "stdout",
     "output_type": "stream",
     "text": [
      "In-sample accuracy: 1.5500161921123283\n",
      "Out-of-sample accuracy: 1.6490939881971034\n"
     ]
    }
   ],
   "source": [
    "regr = LinearRegression()\n",
    "regr.fit(X_train_claims, y_train_claims)\n",
    "\n",
    "# get in and out of sample accuracy\n",
    "y_pred = regr.predict(X_train_claims)\n",
    "in_acc = np.sqrt(mean_squared_error(y_pred, y_train_claims))\n",
    "y_pred = regr.predict(X_test_claims)\n",
    "out_acc = np.sqrt(mean_squared_error(y_pred, y_test_claims))\n",
    "print('In-sample accuracy: {}\\nOut-of-sample accuracy: {}'.format(in_acc, out_acc))"
   ]
  },
  {
   "cell_type": "code",
   "execution_count": 16,
   "metadata": {},
   "outputs": [
    {
     "data": {
      "text/plain": [
       "<matplotlib.collections.PathCollection at 0x117d7c978>"
      ]
     },
     "execution_count": 16,
     "metadata": {},
     "output_type": "execute_result"
    },
    {
     "data": {
      "image/png": "[encoded data removed]",
      "text/plain": [
       "<matplotlib.figure.Figure at 0x1178a7b00>"
      ]
     },
     "metadata": {},
     "output_type": "display_data"
    }
   ],
   "source": [
    "plt.scatter(x=regr.predict(X_train_claims), y=y_train_claims - regr.predict(X_train_claims))"
   ]
  },
  {
   "cell_type": "markdown",
   "metadata": {},
   "source": [
    "## Join layers 1 and 2 for final predictions"
   ]
  },
  {
   "cell_type": "code",
   "execution_count": 17,
   "metadata": {
    "collapsed": true
   },
   "outputs": [],
   "source": [
    "def join_predict(X, model1, model2):\n",
    "    \n",
    "    print('loading data...')\n",
    "    X_cont, X_cat = pipeline(X)\n",
    "    X_cont = sc.transform(X_cont)    \n",
    "    df = pd.concat([pd.DataFrame(X_cont), pd.DataFrame(X_cat)], axis=1)\n",
    "    \n",
    "    print('clasifying (layer1)...')\n",
    "    layer1 = model1.predict(X_cont)\n",
    "    \n",
    "    print('regressing (layer2)...')\n",
    "    layer2 = []\n",
    "    \n",
    "    for x in layer1:\n",
    "        if x == 1:\n",
    "            layer2.append(model2.predict(df))\n",
    "        else:\n",
    "            layer2.append(0)\n",
    "    \n",
    "    return layer2"
   ]
  },
  {
   "cell_type": "code",
   "execution_count": 18,
   "metadata": {},
   "outputs": [
    {
     "name": "stdout",
     "output_type": "stream",
     "text": [
      "loading data...\n"
     ]
    },
    {
     "name": "stderr",
     "output_type": "stream",
     "text": [
      "/anaconda3/lib/python3.6/site-packages/ipykernel_launcher.py:15: FutureWarning: reshape is deprecated and will raise in a subsequent release. Please use .values.reshape(...) instead\n",
      "  from ipykernel import kernelapp as app\n",
      "/anaconda3/lib/python3.6/site-packages/sklearn/preprocessing/label.py:111: DataConversionWarning: A column-vector y was passed when a 1d array was expected. Please change the shape of y to (n_samples, ), for example using ravel().\n",
      "  y = column_or_1d(y, warn=True)\n"
     ]
    },
    {
     "name": "stdout",
     "output_type": "stream",
     "text": [
      "clasifying (layer1)...\n",
      "regressing (layer2)...\n"
     ]
    }
   ],
   "source": [
    "y_pred_train = join_predict(X_train, model, regr)"
   ]
  },
  {
   "cell_type": "code",
   "execution_count": 29,
   "metadata": {},
   "outputs": [
    {
     "name": "stdout",
     "output_type": "stream",
     "text": [
      "Final model accuracy on train set (in log): 0.317968143981\n",
      "Error for a $100 prediction: +/-  US$ 9.16\n",
      "Error for a $1000 prediction: +/-  US$ 26.6\n"
     ]
    }
   ],
   "source": [
    "acc = np.sqrt(mean_squared_error(y_pred_train, np.log(1 + y_train[:, 1])))\n",
    "print('Final model accuracy on train set (in log):', acc)\n",
    "print('Error for a $100 prediction: +/-  US$', round(np.expm1(2 + acc), 2))\n",
    "print('Error for a $1000 prediction: +/-  US$', round(np.expm1(3 + acc), 2))"
   ]
  },
  {
   "cell_type": "code",
   "execution_count": 20,
   "metadata": {},
   "outputs": [
    {
     "name": "stdout",
     "output_type": "stream",
     "text": [
      "loading data...\n"
     ]
    },
    {
     "name": "stderr",
     "output_type": "stream",
     "text": [
      "/anaconda3/lib/python3.6/site-packages/ipykernel_launcher.py:15: FutureWarning: reshape is deprecated and will raise in a subsequent release. Please use .values.reshape(...) instead\n",
      "  from ipykernel import kernelapp as app\n",
      "/anaconda3/lib/python3.6/site-packages/sklearn/preprocessing/label.py:111: DataConversionWarning: A column-vector y was passed when a 1d array was expected. Please change the shape of y to (n_samples, ), for example using ravel().\n",
      "  y = column_or_1d(y, warn=True)\n"
     ]
    },
    {
     "name": "stdout",
     "output_type": "stream",
     "text": [
      "clasifying (layer1)...\n",
      "regressing (layer2)...\n"
     ]
    }
   ],
   "source": [
    "y_pred_test = join_predict(X_test, model, regr)"
   ]
  },
  {
   "cell_type": "code",
   "execution_count": 28,
   "metadata": {},
   "outputs": [
    {
     "name": "stdout",
     "output_type": "stream",
     "text": [
      "Final model accuracy on test set (in log): 0.335365218977\n",
      "Error for a $100 prediction: +/-  US$ 9.33\n",
      "Error for a $1000 prediction: +/-  US$ 27.09\n"
     ]
    }
   ],
   "source": [
    "acc = np.sqrt(mean_squared_error(y_pred_test, np.log(1 + y_test[:, 1])))\n",
    "print('Final model accuracy on test set (in log):', acc)\n",
    "print('Error for a $100 prediction: +/-  US$', round(np.expm1(2 + acc), 2))\n",
    "print('Error for a $1000 prediction: +/-  US$', round(np.expm1(3 + acc), 2))"
   ]
  },
  {
   "cell_type": "code",
   "execution_count": null,
   "metadata": {
    "collapsed": true
   },
   "outputs": [],
   "source": []
  }
 ],
 "metadata": {
  "anaconda-cloud": {},
  "kernelspec": {
   "display_name": "Python 3",
   "language": "python",
   "name": "python3"
  },
  "language_info": {
   "codemirror_mode": {
    "name": "ipython",
    "version": 3
   },
   "file_extension": ".py",
   "mimetype": "text/x-python",
   "name": "python",
   "nbconvert_exporter": "python",
   "pygments_lexer": "ipython3",
   "version": "3.6.3"
  },
  "nbpresent": {
   "slides": {},
   "themes": {
    "default": "a151beb9-8a80-441f-a3f7-55037187b072",
    "theme": {}
   }
  }
 },
 "nbformat": 4,
 "nbformat_minor": 2
}
