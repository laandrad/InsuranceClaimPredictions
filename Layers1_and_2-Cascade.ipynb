{
 "cells": [
  {
   "cell_type": "markdown",
   "metadata": {},
   "source": [
    "## Load packages"
   ]
  },
  {
   "cell_type": "code",
   "execution_count": 29,
   "metadata": {
    "collapsed": true
   },
   "outputs": [],
   "source": [
    "import pandas as pd\n",
    "import numpy as np\n",
    "from matplotlib import pyplot as plt\n",
    "from sklearn.preprocessing import StandardScaler\n",
    "from sklearn.linear_model import LogisticRegression\n",
    "from sklearn.metrics import accuracy_score\n",
    "from sklearn.model_selection import train_test_split\n",
    "from sklearn.decomposition import PCA\n",
    "from sklearn.preprocessing import OneHotEncoder, LabelEncoder\n",
    "from sklearn.linear_model import LinearRegression\n",
    "from sklearn.ensemble import RandomForestClassifier, RandomForestRegressor\n",
    "from sklearn.svm import SVC\n",
    "from sklearn.metrics import mean_squared_error, confusion_matrix\n",
    "\n",
    "%matplotlib inline"
   ]
  },
  {
   "cell_type": "markdown",
   "metadata": {},
   "source": [
    "## Load and Preprocess Data "
   ]
  },
  {
   "cell_type": "code",
   "execution_count": 30,
   "metadata": {},
   "outputs": [
    {
     "data": {
      "text/html": [
       "<div>\n",
       "<style scoped>\n",
       "    .dataframe tbody tr th:only-of-type {\n",
       "        vertical-align: middle;\n",
       "    }\n",
       "\n",
       "    .dataframe tbody tr th {\n",
       "        vertical-align: top;\n",
       "    }\n",
       "\n",
       "    .dataframe thead th {\n",
       "        text-align: right;\n",
       "    }\n",
       "</style>\n",
       "<table border=\"1\" class=\"dataframe\">\n",
       "  <thead>\n",
       "    <tr style=\"text-align: right;\">\n",
       "      <th></th>\n",
       "      <th>Row_ID</th>\n",
       "      <th>Household_ID</th>\n",
       "      <th>Vehicle</th>\n",
       "      <th>Calendar_Year</th>\n",
       "      <th>Model_Year</th>\n",
       "      <th>Blind_Make</th>\n",
       "      <th>Blind_Model</th>\n",
       "      <th>Blind_Submodel</th>\n",
       "      <th>Cat1</th>\n",
       "      <th>Cat2</th>\n",
       "      <th>...</th>\n",
       "      <th>Var5</th>\n",
       "      <th>Var6</th>\n",
       "      <th>Var7</th>\n",
       "      <th>Var8</th>\n",
       "      <th>NVCat</th>\n",
       "      <th>NVVar1</th>\n",
       "      <th>NVVar2</th>\n",
       "      <th>NVVar3</th>\n",
       "      <th>NVVar4</th>\n",
       "      <th>Claim_Amount</th>\n",
       "    </tr>\n",
       "  </thead>\n",
       "  <tbody>\n",
       "    <tr>\n",
       "      <th>0</th>\n",
       "      <td>1</td>\n",
       "      <td>1</td>\n",
       "      <td>3</td>\n",
       "      <td>2005</td>\n",
       "      <td>2005</td>\n",
       "      <td>K</td>\n",
       "      <td>K.78</td>\n",
       "      <td>K.78.2</td>\n",
       "      <td>D</td>\n",
       "      <td>C</td>\n",
       "      <td>...</td>\n",
       "      <td>1.008912</td>\n",
       "      <td>0.261040</td>\n",
       "      <td>0.907793</td>\n",
       "      <td>-0.077998</td>\n",
       "      <td>M</td>\n",
       "      <td>-0.231530</td>\n",
       "      <td>-0.266117</td>\n",
       "      <td>-0.272337</td>\n",
       "      <td>-0.251419</td>\n",
       "      <td>0.0</td>\n",
       "    </tr>\n",
       "    <tr>\n",
       "      <th>1</th>\n",
       "      <td>2</td>\n",
       "      <td>2</td>\n",
       "      <td>2</td>\n",
       "      <td>2005</td>\n",
       "      <td>2003</td>\n",
       "      <td>Q</td>\n",
       "      <td>Q.22</td>\n",
       "      <td>Q.22.3</td>\n",
       "      <td>B</td>\n",
       "      <td>C</td>\n",
       "      <td>...</td>\n",
       "      <td>1.240851</td>\n",
       "      <td>0.432987</td>\n",
       "      <td>-0.726459</td>\n",
       "      <td>0.204785</td>\n",
       "      <td>O</td>\n",
       "      <td>-0.231530</td>\n",
       "      <td>-0.266117</td>\n",
       "      <td>-0.272337</td>\n",
       "      <td>-0.251419</td>\n",
       "      <td>0.0</td>\n",
       "    </tr>\n",
       "    <tr>\n",
       "      <th>2</th>\n",
       "      <td>3</td>\n",
       "      <td>3</td>\n",
       "      <td>1</td>\n",
       "      <td>2005</td>\n",
       "      <td>1998</td>\n",
       "      <td>AR</td>\n",
       "      <td>AR.41</td>\n",
       "      <td>AR.41.1</td>\n",
       "      <td>B</td>\n",
       "      <td>?</td>\n",
       "      <td>...</td>\n",
       "      <td>-0.971487</td>\n",
       "      <td>-1.405797</td>\n",
       "      <td>-0.837048</td>\n",
       "      <td>-1.176858</td>\n",
       "      <td>F</td>\n",
       "      <td>-0.231530</td>\n",
       "      <td>-0.266117</td>\n",
       "      <td>-0.272337</td>\n",
       "      <td>-0.251419</td>\n",
       "      <td>0.0</td>\n",
       "    </tr>\n",
       "    <tr>\n",
       "      <th>3</th>\n",
       "      <td>4</td>\n",
       "      <td>3</td>\n",
       "      <td>1</td>\n",
       "      <td>2006</td>\n",
       "      <td>1998</td>\n",
       "      <td>AR</td>\n",
       "      <td>AR.41</td>\n",
       "      <td>AR.41.1</td>\n",
       "      <td>B</td>\n",
       "      <td>?</td>\n",
       "      <td>...</td>\n",
       "      <td>-0.971487</td>\n",
       "      <td>-1.405797</td>\n",
       "      <td>-0.837048</td>\n",
       "      <td>-1.176858</td>\n",
       "      <td>F</td>\n",
       "      <td>-0.231530</td>\n",
       "      <td>-0.266117</td>\n",
       "      <td>-0.272337</td>\n",
       "      <td>-0.251419</td>\n",
       "      <td>0.0</td>\n",
       "    </tr>\n",
       "    <tr>\n",
       "      <th>4</th>\n",
       "      <td>5</td>\n",
       "      <td>3</td>\n",
       "      <td>2</td>\n",
       "      <td>2005</td>\n",
       "      <td>2001</td>\n",
       "      <td>D</td>\n",
       "      <td>D.20</td>\n",
       "      <td>D.20.0</td>\n",
       "      <td>J</td>\n",
       "      <td>C</td>\n",
       "      <td>...</td>\n",
       "      <td>0.812656</td>\n",
       "      <td>2.112691</td>\n",
       "      <td>1.534462</td>\n",
       "      <td>2.347260</td>\n",
       "      <td>F</td>\n",
       "      <td>-0.231530</td>\n",
       "      <td>-0.266117</td>\n",
       "      <td>-0.272337</td>\n",
       "      <td>-0.251419</td>\n",
       "      <td>0.0</td>\n",
       "    </tr>\n",
       "    <tr>\n",
       "      <th>5</th>\n",
       "      <td>6</td>\n",
       "      <td>3</td>\n",
       "      <td>2</td>\n",
       "      <td>2006</td>\n",
       "      <td>2001</td>\n",
       "      <td>D</td>\n",
       "      <td>D.20</td>\n",
       "      <td>D.20.0</td>\n",
       "      <td>J</td>\n",
       "      <td>C</td>\n",
       "      <td>...</td>\n",
       "      <td>0.812656</td>\n",
       "      <td>2.112691</td>\n",
       "      <td>1.534462</td>\n",
       "      <td>2.347260</td>\n",
       "      <td>F</td>\n",
       "      <td>-0.231530</td>\n",
       "      <td>-0.266117</td>\n",
       "      <td>-0.272337</td>\n",
       "      <td>-0.251419</td>\n",
       "      <td>0.0</td>\n",
       "    </tr>\n",
       "    <tr>\n",
       "      <th>6</th>\n",
       "      <td>7</td>\n",
       "      <td>4</td>\n",
       "      <td>1</td>\n",
       "      <td>2006</td>\n",
       "      <td>2001</td>\n",
       "      <td>AJ</td>\n",
       "      <td>AJ.129</td>\n",
       "      <td>AJ.129.3</td>\n",
       "      <td>G</td>\n",
       "      <td>C</td>\n",
       "      <td>...</td>\n",
       "      <td>0.580718</td>\n",
       "      <td>0.551128</td>\n",
       "      <td>0.416289</td>\n",
       "      <td>-0.024395</td>\n",
       "      <td>M</td>\n",
       "      <td>-0.231530</td>\n",
       "      <td>-0.266117</td>\n",
       "      <td>-0.272337</td>\n",
       "      <td>-0.251419</td>\n",
       "      <td>0.0</td>\n",
       "    </tr>\n",
       "    <tr>\n",
       "      <th>7</th>\n",
       "      <td>8</td>\n",
       "      <td>4</td>\n",
       "      <td>2</td>\n",
       "      <td>2006</td>\n",
       "      <td>2002</td>\n",
       "      <td>AQ</td>\n",
       "      <td>AQ.17</td>\n",
       "      <td>AQ.17.1</td>\n",
       "      <td>B</td>\n",
       "      <td>C</td>\n",
       "      <td>...</td>\n",
       "      <td>0.527193</td>\n",
       "      <td>-0.023200</td>\n",
       "      <td>-0.701884</td>\n",
       "      <td>0.226664</td>\n",
       "      <td>M</td>\n",
       "      <td>-0.231530</td>\n",
       "      <td>-0.266117</td>\n",
       "      <td>-0.272337</td>\n",
       "      <td>-0.251419</td>\n",
       "      <td>0.0</td>\n",
       "    </tr>\n",
       "    <tr>\n",
       "      <th>8</th>\n",
       "      <td>9</td>\n",
       "      <td>4</td>\n",
       "      <td>3</td>\n",
       "      <td>2005</td>\n",
       "      <td>2002</td>\n",
       "      <td>AQ</td>\n",
       "      <td>AQ.17</td>\n",
       "      <td>AQ.17.1</td>\n",
       "      <td>B</td>\n",
       "      <td>C</td>\n",
       "      <td>...</td>\n",
       "      <td>0.527193</td>\n",
       "      <td>-0.023200</td>\n",
       "      <td>-0.701884</td>\n",
       "      <td>0.226664</td>\n",
       "      <td>M</td>\n",
       "      <td>-0.231530</td>\n",
       "      <td>-0.266117</td>\n",
       "      <td>-0.272337</td>\n",
       "      <td>-0.251419</td>\n",
       "      <td>0.0</td>\n",
       "    </tr>\n",
       "    <tr>\n",
       "      <th>9</th>\n",
       "      <td>10</td>\n",
       "      <td>5</td>\n",
       "      <td>1</td>\n",
       "      <td>2005</td>\n",
       "      <td>1995</td>\n",
       "      <td>BW</td>\n",
       "      <td>BW.3</td>\n",
       "      <td>BW.3.0</td>\n",
       "      <td>D</td>\n",
       "      <td>?</td>\n",
       "      <td>...</td>\n",
       "      <td>0.176312</td>\n",
       "      <td>0.283264</td>\n",
       "      <td>0.969232</td>\n",
       "      <td>-0.792339</td>\n",
       "      <td>N</td>\n",
       "      <td>2.054683</td>\n",
       "      <td>-0.266117</td>\n",
       "      <td>-0.272337</td>\n",
       "      <td>-0.251419</td>\n",
       "      <td>0.0</td>\n",
       "    </tr>\n",
       "  </tbody>\n",
       "</table>\n",
       "<p>10 rows × 35 columns</p>\n",
       "</div>"
      ],
      "text/plain": [
       "   Row_ID  Household_ID  Vehicle  Calendar_Year  Model_Year Blind_Make  \\\n",
       "0       1             1        3           2005        2005          K   \n",
       "1       2             2        2           2005        2003          Q   \n",
       "2       3             3        1           2005        1998         AR   \n",
       "3       4             3        1           2006        1998         AR   \n",
       "4       5             3        2           2005        2001          D   \n",
       "5       6             3        2           2006        2001          D   \n",
       "6       7             4        1           2006        2001         AJ   \n",
       "7       8             4        2           2006        2002         AQ   \n",
       "8       9             4        3           2005        2002         AQ   \n",
       "9      10             5        1           2005        1995         BW   \n",
       "\n",
       "  Blind_Model Blind_Submodel Cat1 Cat2     ...           Var5      Var6  \\\n",
       "0        K.78         K.78.2    D    C     ...       1.008912  0.261040   \n",
       "1        Q.22         Q.22.3    B    C     ...       1.240851  0.432987   \n",
       "2       AR.41        AR.41.1    B    ?     ...      -0.971487 -1.405797   \n",
       "3       AR.41        AR.41.1    B    ?     ...      -0.971487 -1.405797   \n",
       "4        D.20         D.20.0    J    C     ...       0.812656  2.112691   \n",
       "5        D.20         D.20.0    J    C     ...       0.812656  2.112691   \n",
       "6      AJ.129       AJ.129.3    G    C     ...       0.580718  0.551128   \n",
       "7       AQ.17        AQ.17.1    B    C     ...       0.527193 -0.023200   \n",
       "8       AQ.17        AQ.17.1    B    C     ...       0.527193 -0.023200   \n",
       "9        BW.3         BW.3.0    D    ?     ...       0.176312  0.283264   \n",
       "\n",
       "       Var7      Var8 NVCat    NVVar1    NVVar2    NVVar3    NVVar4  \\\n",
       "0  0.907793 -0.077998     M -0.231530 -0.266117 -0.272337 -0.251419   \n",
       "1 -0.726459  0.204785     O -0.231530 -0.266117 -0.272337 -0.251419   \n",
       "2 -0.837048 -1.176858     F -0.231530 -0.266117 -0.272337 -0.251419   \n",
       "3 -0.837048 -1.176858     F -0.231530 -0.266117 -0.272337 -0.251419   \n",
       "4  1.534462  2.347260     F -0.231530 -0.266117 -0.272337 -0.251419   \n",
       "5  1.534462  2.347260     F -0.231530 -0.266117 -0.272337 -0.251419   \n",
       "6  0.416289 -0.024395     M -0.231530 -0.266117 -0.272337 -0.251419   \n",
       "7 -0.701884  0.226664     M -0.231530 -0.266117 -0.272337 -0.251419   \n",
       "8 -0.701884  0.226664     M -0.231530 -0.266117 -0.272337 -0.251419   \n",
       "9  0.969232 -0.792339     N  2.054683 -0.266117 -0.272337 -0.251419   \n",
       "\n",
       "  Claim_Amount  \n",
       "0          0.0  \n",
       "1          0.0  \n",
       "2          0.0  \n",
       "3          0.0  \n",
       "4          0.0  \n",
       "5          0.0  \n",
       "6          0.0  \n",
       "7          0.0  \n",
       "8          0.0  \n",
       "9          0.0  \n",
       "\n",
       "[10 rows x 35 columns]"
      ]
     },
     "execution_count": 30,
     "metadata": {},
     "output_type": "execute_result"
    }
   ],
   "source": [
    "data='/Users/alejandro/AnacondaProjects/Actuary Data/train_set.csv'\n",
    "df = pd.read_csv(data, nrows=100000)\n",
    "df.head(10)"
   ]
  },
  {
   "cell_type": "code",
   "execution_count": 31,
   "metadata": {},
   "outputs": [
    {
     "name": "stdout",
     "output_type": "stream",
     "text": [
      "Claim amount: min: 0.24, max: 2920.52, mean: 139.51, sd: 257.12\n"
     ]
    }
   ],
   "source": [
    "df_nz = df['Claim_Amount'][df['Claim_Amount']!=0]\n",
    "print('Claim amount: min: {}, max: {}, mean: {}, sd: {}'.format(\n",
    "    round(df_nz.min(), 2),\n",
    "    round(df_nz.max(), 2),\n",
    "    round(df_nz.mean(), 2),\n",
    "    round(df_nz.std(), 2)\n",
    "))"
   ]
  },
  {
   "cell_type": "code",
   "execution_count": 32,
   "metadata": {},
   "outputs": [
    {
     "data": {
      "text/plain": [
       "(array([ 527.,   60.,   14.,   10.,    5.,    2.,    0.,    0.,    0.,    1.]),\n",
       " array([  2.40892800e-01,   2.92268904e+02,   5.84296914e+02,\n",
       "          8.76324925e+02,   1.16835294e+03,   1.46038095e+03,\n",
       "          1.75240896e+03,   2.04443697e+03,   2.33646498e+03,\n",
       "          2.62849299e+03,   2.92052100e+03]),\n",
       " <a list of 10 Patch objects>)"
      ]
     },
     "execution_count": 32,
     "metadata": {},
     "output_type": "execute_result"
    },
    {
     "data": {
      "image/png": "[encoded data removed]",
      "text/plain": [
       "<matplotlib.figure.Figure at 0x10cea4320>"
      ]
     },
     "metadata": {},
     "output_type": "display_data"
    }
   ],
   "source": [
    "plt.hist(df_nz)"
   ]
  },
  {
   "cell_type": "code",
   "execution_count": 33,
   "metadata": {},
   "outputs": [
    {
     "data": {
      "text/html": [
       "<div>\n",
       "<style scoped>\n",
       "    .dataframe tbody tr th:only-of-type {\n",
       "        vertical-align: middle;\n",
       "    }\n",
       "\n",
       "    .dataframe tbody tr th {\n",
       "        vertical-align: top;\n",
       "    }\n",
       "\n",
       "    .dataframe thead th {\n",
       "        text-align: right;\n",
       "    }\n",
       "</style>\n",
       "<table border=\"1\" class=\"dataframe\">\n",
       "  <thead>\n",
       "    <tr style=\"text-align: right;\">\n",
       "      <th></th>\n",
       "      <th>Row_ID</th>\n",
       "      <th>Household_ID</th>\n",
       "      <th>Vehicle</th>\n",
       "      <th>Calendar_Year</th>\n",
       "      <th>Model_Year</th>\n",
       "      <th>Blind_Make</th>\n",
       "      <th>Blind_Model</th>\n",
       "      <th>Blind_Submodel</th>\n",
       "      <th>Cat1</th>\n",
       "      <th>Cat2</th>\n",
       "      <th>...</th>\n",
       "      <th>Var6</th>\n",
       "      <th>Var7</th>\n",
       "      <th>Var8</th>\n",
       "      <th>NVCat</th>\n",
       "      <th>NVVar1</th>\n",
       "      <th>NVVar2</th>\n",
       "      <th>NVVar3</th>\n",
       "      <th>NVVar4</th>\n",
       "      <th>Claim_Amount</th>\n",
       "      <th>claim</th>\n",
       "    </tr>\n",
       "  </thead>\n",
       "  <tbody>\n",
       "    <tr>\n",
       "      <th>0</th>\n",
       "      <td>1</td>\n",
       "      <td>1</td>\n",
       "      <td>3</td>\n",
       "      <td>2005</td>\n",
       "      <td>24.0</td>\n",
       "      <td>K</td>\n",
       "      <td>K.78</td>\n",
       "      <td>K.78.2</td>\n",
       "      <td>D</td>\n",
       "      <td>C</td>\n",
       "      <td>...</td>\n",
       "      <td>0.261040</td>\n",
       "      <td>0.907793</td>\n",
       "      <td>-0.077998</td>\n",
       "      <td>M</td>\n",
       "      <td>-0.23153</td>\n",
       "      <td>-0.266117</td>\n",
       "      <td>-0.272337</td>\n",
       "      <td>-0.251419</td>\n",
       "      <td>0.0</td>\n",
       "      <td>0</td>\n",
       "    </tr>\n",
       "    <tr>\n",
       "      <th>1</th>\n",
       "      <td>2</td>\n",
       "      <td>2</td>\n",
       "      <td>2</td>\n",
       "      <td>2005</td>\n",
       "      <td>22.0</td>\n",
       "      <td>Q</td>\n",
       "      <td>Q.22</td>\n",
       "      <td>Q.22.3</td>\n",
       "      <td>B</td>\n",
       "      <td>C</td>\n",
       "      <td>...</td>\n",
       "      <td>0.432987</td>\n",
       "      <td>-0.726459</td>\n",
       "      <td>0.204785</td>\n",
       "      <td>O</td>\n",
       "      <td>-0.23153</td>\n",
       "      <td>-0.266117</td>\n",
       "      <td>-0.272337</td>\n",
       "      <td>-0.251419</td>\n",
       "      <td>0.0</td>\n",
       "      <td>0</td>\n",
       "    </tr>\n",
       "    <tr>\n",
       "      <th>2</th>\n",
       "      <td>3</td>\n",
       "      <td>3</td>\n",
       "      <td>1</td>\n",
       "      <td>2005</td>\n",
       "      <td>17.0</td>\n",
       "      <td>AR</td>\n",
       "      <td>AR.41</td>\n",
       "      <td>AR.41.1</td>\n",
       "      <td>B</td>\n",
       "      <td>?</td>\n",
       "      <td>...</td>\n",
       "      <td>-1.405797</td>\n",
       "      <td>-0.837048</td>\n",
       "      <td>-1.176858</td>\n",
       "      <td>F</td>\n",
       "      <td>-0.23153</td>\n",
       "      <td>-0.266117</td>\n",
       "      <td>-0.272337</td>\n",
       "      <td>-0.251419</td>\n",
       "      <td>0.0</td>\n",
       "      <td>0</td>\n",
       "    </tr>\n",
       "    <tr>\n",
       "      <th>3</th>\n",
       "      <td>4</td>\n",
       "      <td>3</td>\n",
       "      <td>1</td>\n",
       "      <td>2006</td>\n",
       "      <td>17.0</td>\n",
       "      <td>AR</td>\n",
       "      <td>AR.41</td>\n",
       "      <td>AR.41.1</td>\n",
       "      <td>B</td>\n",
       "      <td>?</td>\n",
       "      <td>...</td>\n",
       "      <td>-1.405797</td>\n",
       "      <td>-0.837048</td>\n",
       "      <td>-1.176858</td>\n",
       "      <td>F</td>\n",
       "      <td>-0.23153</td>\n",
       "      <td>-0.266117</td>\n",
       "      <td>-0.272337</td>\n",
       "      <td>-0.251419</td>\n",
       "      <td>0.0</td>\n",
       "      <td>0</td>\n",
       "    </tr>\n",
       "    <tr>\n",
       "      <th>4</th>\n",
       "      <td>5</td>\n",
       "      <td>3</td>\n",
       "      <td>2</td>\n",
       "      <td>2005</td>\n",
       "      <td>20.0</td>\n",
       "      <td>D</td>\n",
       "      <td>D.20</td>\n",
       "      <td>D.20.0</td>\n",
       "      <td>J</td>\n",
       "      <td>C</td>\n",
       "      <td>...</td>\n",
       "      <td>2.112691</td>\n",
       "      <td>1.534462</td>\n",
       "      <td>2.347260</td>\n",
       "      <td>F</td>\n",
       "      <td>-0.23153</td>\n",
       "      <td>-0.266117</td>\n",
       "      <td>-0.272337</td>\n",
       "      <td>-0.251419</td>\n",
       "      <td>0.0</td>\n",
       "      <td>0</td>\n",
       "    </tr>\n",
       "  </tbody>\n",
       "</table>\n",
       "<p>5 rows × 36 columns</p>\n",
       "</div>"
      ],
      "text/plain": [
       "   Row_ID  Household_ID  Vehicle  Calendar_Year  Model_Year Blind_Make  \\\n",
       "0       1             1        3           2005        24.0          K   \n",
       "1       2             2        2           2005        22.0          Q   \n",
       "2       3             3        1           2005        17.0         AR   \n",
       "3       4             3        1           2006        17.0         AR   \n",
       "4       5             3        2           2005        20.0          D   \n",
       "\n",
       "  Blind_Model Blind_Submodel Cat1 Cat2  ...       Var6      Var7      Var8  \\\n",
       "0        K.78         K.78.2    D    C  ...   0.261040  0.907793 -0.077998   \n",
       "1        Q.22         Q.22.3    B    C  ...   0.432987 -0.726459  0.204785   \n",
       "2       AR.41        AR.41.1    B    ?  ...  -1.405797 -0.837048 -1.176858   \n",
       "3       AR.41        AR.41.1    B    ?  ...  -1.405797 -0.837048 -1.176858   \n",
       "4        D.20         D.20.0    J    C  ...   2.112691  1.534462  2.347260   \n",
       "\n",
       "  NVCat   NVVar1    NVVar2    NVVar3    NVVar4 Claim_Amount claim  \n",
       "0     M -0.23153 -0.266117 -0.272337 -0.251419          0.0     0  \n",
       "1     O -0.23153 -0.266117 -0.272337 -0.251419          0.0     0  \n",
       "2     F -0.23153 -0.266117 -0.272337 -0.251419          0.0     0  \n",
       "3     F -0.23153 -0.266117 -0.272337 -0.251419          0.0     0  \n",
       "4     F -0.23153 -0.266117 -0.272337 -0.251419          0.0     0  \n",
       "\n",
       "[5 rows x 36 columns]"
      ]
     },
     "execution_count": 33,
     "metadata": {},
     "output_type": "execute_result"
    }
   ],
   "source": [
    "# dummy code claims\n",
    "df['claim'] = df.Claim_Amount.apply(lambda x: 0 if x == 0 else 1)\n",
    "df['Model_Year'] = df['Model_Year'] - np.min(df['Model_Year'])\n",
    "df['Model_Year'] = df['Model_Year'].astype('float64')\n",
    "df.head()"
   ]
  },
  {
   "cell_type": "code",
   "execution_count": 34,
   "metadata": {
    "collapsed": true
   },
   "outputs": [],
   "source": [
    "# separate feature matrix from labels (claims in {0 = No claim, 1 = Claim})\n",
    "# only continuous variables are included in the model\n",
    "X = df[['Var5', 'Var6', 'Var7', 'Var8', 'NVVar1', 'NVVar2', 'NVVar3', 'NVVar4', 'Vehicle', 'Model_Year', 'Blind_Submodel']]\n",
    "y = df[['claim', 'Claim_Amount']].values"
   ]
  },
  {
   "cell_type": "code",
   "execution_count": 35,
   "metadata": {
    "collapsed": true
   },
   "outputs": [],
   "source": [
    "# split data into train and test sets\n",
    "X_train, X_test, y_train, y_test = train_test_split(X, y, test_size = 0.25, random_state = 42)"
   ]
  },
  {
   "cell_type": "code",
   "execution_count": 36,
   "metadata": {
    "scrolled": true
   },
   "outputs": [
    {
     "name": "stderr",
     "output_type": "stream",
     "text": [
      "/anaconda3/lib/python3.6/site-packages/ipykernel_launcher.py:15: FutureWarning: reshape is deprecated and will raise in a subsequent release. Please use .values.reshape(...) instead\n",
      "  from ipykernel import kernelapp as app\n",
      "/anaconda3/lib/python3.6/site-packages/sklearn/preprocessing/label.py:111: DataConversionWarning: A column-vector y was passed when a 1d array was expected. Please change the shape of y to (n_samples, ), for example using ravel().\n",
      "  y = column_or_1d(y, warn=True)\n"
     ]
    }
   ],
   "source": [
    "def pipeline(X):\n",
    "    df_cont = pd.DataFrame()\n",
    "    df_cat = pd.DataFrame()\n",
    "    for x in X:\n",
    "        if X[x].dtypes == 'float64':\n",
    "            df_cont['{}'.format(x)] = X[x]\n",
    "        else:\n",
    "            df_cat['{}'.format(x)] = X[x]\n",
    "    \n",
    "    dummy = OneHotEncoder()\n",
    "    dummyC = LabelEncoder()\n",
    "    \n",
    "    df_cat2 = np.zeros((df_cat.shape[0], 1))\n",
    "    for x in df_cat:\n",
    "        y = dummyC.fit_transform(df_cat[x].reshape(-1, 1))\n",
    "        y = dummy.fit_transform(y.reshape(-1, 1)).toarray()\n",
    "        y = pd.DataFrame(y[:, 1:])\n",
    "        df_cat2 = np.hstack((df_cat2, y))\n",
    "    df_cat = pd.DataFrame(df_cat2)\n",
    "    \n",
    "    pca = PCA(n_components=10)\n",
    "    pca.fit_transform(df_cat)\n",
    "    k = np.argmax(np.cumsum(pca.explained_variance_ratio_) > 0.95) + 1\n",
    "    pca = PCA(n_components=k)\n",
    "    df_cat_pca = pca.fit_transform(df_cat)\n",
    "    df_cat = pd.DataFrame(df_cat_pca)\n",
    "    \n",
    "    return df_cont, df_cat\n",
    "\n",
    "X_train_cont, X_train_cat = pipeline(X_train)\n",
    "X_test_cont, X_test_cat = pipeline(X_test)"
   ]
  },
  {
   "cell_type": "code",
   "execution_count": 37,
   "metadata": {
    "collapsed": true
   },
   "outputs": [],
   "source": [
    "# scale features to have same variance\n",
    "sc = StandardScaler()\n",
    "X_train_cont = sc.fit_transform(X_train_cont)\n",
    "X_test_cont = sc.transform(X_test_cont)"
   ]
  },
  {
   "cell_type": "code",
   "execution_count": 38,
   "metadata": {},
   "outputs": [],
   "source": [
    "X_train = pd.concat([pd.DataFrame(X_train_cont), pd.DataFrame(X_train_cat)], axis=1)\n",
    "X_test = pd.concat([pd.DataFrame(X_test_cont), pd.DataFrame(X_test_cat)], axis=1)"
   ]
  },
  {
   "cell_type": "markdown",
   "metadata": {},
   "source": [
    "## Layer 1 - classify claim or no claim"
   ]
  },
  {
   "cell_type": "code",
   "execution_count": 39,
   "metadata": {
    "collapsed": true
   },
   "outputs": [],
   "source": [
    "def create_model(model, X, y):\n",
    "    if model == 'lr':\n",
    "        myModel = LogisticRegression(random_state=42, class_weight='balanced', n_jobs=-1)\n",
    "    elif model == 'svm':\n",
    "        myModel = SVC(kernel='linear', random_state=42, class_weight='balanced', cache_size=2048)\n",
    "    elif model == 'rf':\n",
    "        myModel = RandomForestClassifier(random_state=42, class_weight='balanced', n_jobs=-1)\n",
    "    else:\n",
    "        raise error('cannot fit that model')\n",
    "    \n",
    "    myModel.fit(X, y)\n",
    "    \n",
    "    y_pred = myModel.predict(X)\n",
    "    in_acc = accuracy_score(y_pred, y)\n",
    "    tn, fp, fn, tp = confusion_matrix(y_pred, y).ravel()\n",
    "    print('Accuracy: {}, Precision: {}, Recall: {}'.format(round(in_acc, 2), tp / (tp + fp), tp / (tp + fn)))\n",
    "    print(pd.DataFrame(confusion_matrix(y_pred, y)))\n",
    "    \n",
    "    return y_pred"
   ]
  },
  {
   "cell_type": "code",
   "execution_count": 40,
   "metadata": {},
   "outputs": [
    {
     "name": "stderr",
     "output_type": "stream",
     "text": [
      "/anaconda3/lib/python3.6/site-packages/sklearn/linear_model/logistic.py:1228: UserWarning: 'n_jobs' > 1 does not have any effect when 'solver' is set to 'liblinear'. Got 'n_jobs' = -1.\n",
      "  \" = {}.\".format(self.n_jobs))\n"
     ]
    },
    {
     "name": "stdout",
     "output_type": "stream",
     "text": [
      "Accuracy: 0.67, Precision: 0.46357615894039733, Recall: 0.00838758637216919\n",
      "       0    1\n",
      "0  49720  243\n",
      "1  24827  210\n",
      "Accuracy: 0.79, Precision: 0.3355408388520971, Recall: 0.009589905362776025\n",
      "       0    1\n",
      "0  58849  301\n",
      "1  15698  152\n",
      "Accuracy: 0.96, Precision: 0.7108167770419426, Recall: 0.10852713178294573\n",
      "       0    1\n",
      "0  71902  131\n",
      "1   2645  322\n"
     ]
    }
   ],
   "source": [
    "pred1 = create_model('lr', X_train, y_train[:,0])\n",
    "pred2 = create_model('svm', X_train, y_train[:,0])\n",
    "pred3 = create_model('rf', X_train, y_train[:,0])"
   ]
  },
  {
   "cell_type": "code",
   "execution_count": 41,
   "metadata": {},
   "outputs": [],
   "source": [
    "lr_pred = pd.Series(pred1 * 0.67)\n",
    "svm_pred = pd.Series(pred2 * 0.79)\n",
    "rf_pred = pd.Series(pred3 * 0.96)"
   ]
  },
  {
   "cell_type": "code",
   "execution_count": 42,
   "metadata": {},
   "outputs": [
    {
     "name": "stdout",
     "output_type": "stream",
     "text": [
      "Accuracy: 0.8, Precision: 0.4260485651214128, Recall: 0.013069682399945826\n"
     ]
    },
    {
     "data": {
      "text/plain": [
       "array([[59973,   260],\n",
       "       [14574,   193]])"
      ]
     },
     "execution_count": 42,
     "metadata": {},
     "output_type": "execute_result"
    }
   ],
   "source": [
    "final_pred = pd.DataFrame([lr_pred, svm_pred, rf_pred]).sum()\n",
    "final_pred = final_pred.apply(lambda x: 1 if x > 1 else 0)\n",
    "in_acc = accuracy_score(final_pred, y_train[:,0])\n",
    "tn, fp, fn, tp = confusion_matrix(final_pred, y_train[:,0]).ravel()\n",
    "print('Accuracy: {}, Precision: {}, Recall: {}'.format(round(in_acc, 2), tp / (tp + fp), tp / (tp + fn)))\n",
    "confusion_matrix(final_pred, y_train[:,0])"
   ]
  },
  {
   "cell_type": "code",
   "execution_count": null,
   "metadata": {},
   "outputs": [],
   "source": [
    "y_pred = model.predict(X_test)\n",
    "out_acc = accuracy_score(y_pred, y_test[:,0])\n",
    "tn, fp, fn, tp = confusion_matrix(y_pred, y_test[:,0]).ravel()\n",
    "print('In-sample accuracy: {}, Precision: {}, Recall: {}'.format(round(out_acc, 2), tp / (tp + fp), tp / (tp + fn)))\n",
    "confusion_matrix(y_pred, y_test[:,0])"
   ]
  },
  {
   "cell_type": "markdown",
   "metadata": {},
   "source": [
    "## Layer 2 - predict claim value"
   ]
  },
  {
   "cell_type": "code",
   "execution_count": 16,
   "metadata": {
    "collapsed": true
   },
   "outputs": [],
   "source": [
    "X_train_claims = X_train[y_train[:,0] == 1]\n",
    "y_train_claims = y_train[y_train[:,1] != 0, 1]\n",
    "y_train_claims = np.log(1 + y_train_claims)\n",
    "\n",
    "X_test_claims = X_test[y_test[:,0] == 1]\n",
    "y_test_claims = y_test[y_test[:,1] != 0, 1]\n",
    "y_test_claims = np.log(1 + y_test_claims)"
   ]
  },
  {
   "cell_type": "code",
   "execution_count": 17,
   "metadata": {},
   "outputs": [
    {
     "data": {
      "text/plain": [
       "(array([ 12.,  34.,  59.,  83.,  84.,  63.,  53.,  44.,  16.,   5.]),\n",
       " array([ 0.21583112,  0.99223397,  1.76863683,  2.54503968,  3.32144253,\n",
       "         4.09784539,  4.87424824,  5.65065109,  6.42705394,  7.2034568 ,\n",
       "         7.97985965]),\n",
       " <a list of 10 Patch objects>)"
      ]
     },
     "execution_count": 17,
     "metadata": {},
     "output_type": "execute_result"
    },
    {
     "data": {
      "image/png": "[encoded data removed]",
      "text/plain": [
       "<matplotlib.figure.Figure at 0x10cdab438>"
      ]
     },
     "metadata": {},
     "output_type": "display_data"
    }
   ],
   "source": [
    "plt.hist(y_train_claims)"
   ]
  },
  {
   "cell_type": "code",
   "execution_count": 18,
   "metadata": {},
   "outputs": [
    {
     "name": "stdout",
     "output_type": "stream",
     "text": [
      "In-sample RMSE: 0.758369233525951\n",
      "Out-of-sample RMSE: 1.8482426902978453\n",
      "Rsquared: 0.771085045775856\n"
     ]
    }
   ],
   "source": [
    "from sklearn.ensemble import RandomForestRegressor\n",
    "\n",
    "regr = RandomForestRegressor(random_state=42)\n",
    "regr.fit(X_train_claims, y_train_claims)\n",
    "\n",
    "# get in and out of sample accuracy\n",
    "y_pred = regr.predict(X_train_claims)\n",
    "in_RMSE = np.sqrt(mean_squared_error(y_pred, y_train_claims))\n",
    "y_pred = regr.predict(X_test_claims)\n",
    "out_RMSE = np.sqrt(mean_squared_error(y_pred, y_test_claims))\n",
    "rSquared = regr.score(X_train_claims, y_train_claims)\n",
    "print('In-sample RMSE: {}\\nOut-of-sample RMSE: {}\\nRsquared: {}'.format(in_RMSE, out_RMSE, rSquared))"
   ]
  },
  {
   "cell_type": "code",
   "execution_count": 19,
   "metadata": {},
   "outputs": [
    {
     "name": "stdout",
     "output_type": "stream",
     "text": [
      "RMSE in US$: 184.11952514\n",
      "RMSE in US$: 245.385629492\n"
     ]
    }
   ],
   "source": [
    "RMSEDollars = np.sqrt(mean_squared_error(np.expm1(regr.predict(X_train_claims)), np.expm1(y_train_claims)))\n",
    "print('RMSE in US$:', RMSEDollars)\n",
    "RMSEDollars = np.sqrt(mean_squared_error(np.expm1(regr.predict(X_test_claims)), np.expm1(y_test_claims)))\n",
    "print('RMSE in US$:', RMSEDollars)"
   ]
  },
  {
   "cell_type": "code",
   "execution_count": 20,
   "metadata": {},
   "outputs": [
    {
     "data": {
      "text/plain": [
       "<matplotlib.collections.PathCollection at 0x1a199155c0>"
      ]
     },
     "execution_count": 20,
     "metadata": {},
     "output_type": "execute_result"
    },
    {
     "data": {
      "image/png": "[encoded data removed]",
      "text/plain": [
       "<matplotlib.figure.Figure at 0x10c48e278>"
      ]
     },
     "metadata": {},
     "output_type": "display_data"
    }
   ],
   "source": [
    "plt.scatter(x=regr.predict(X_train_claims), y=y_train_claims - regr.predict(X_train_claims))"
   ]
  },
  {
   "cell_type": "markdown",
   "metadata": {},
   "source": [
    "## Join layers 1 and 2 for final predictions"
   ]
  },
  {
   "cell_type": "code",
   "execution_count": 21,
   "metadata": {},
   "outputs": [
    {
     "data": {
      "text/plain": [
       "RandomForestRegressor(bootstrap=True, criterion='mse', max_depth=None,\n",
       "           max_features='auto', max_leaf_nodes=None,\n",
       "           min_impurity_decrease=0.0, min_impurity_split=None,\n",
       "           min_samples_leaf=1, min_samples_split=2,\n",
       "           min_weight_fraction_leaf=0.0, n_estimators=10, n_jobs=1,\n",
       "           oob_score=False, random_state=42, verbose=0, warm_start=False)"
      ]
     },
     "execution_count": 21,
     "metadata": {},
     "output_type": "execute_result"
    }
   ],
   "source": [
    "model1 = RandomForestClassifier(random_state=42, class_weight='balanced')\n",
    "model1.fit(X_train, y_train[:,0])\n",
    "\n",
    "model2 = RandomForestRegressor(random_state=42)\n",
    "model2.fit(X_train_claims, y_train_claims)"
   ]
  },
  {
   "cell_type": "code",
   "execution_count": 22,
   "metadata": {
    "collapsed": true
   },
   "outputs": [],
   "source": [
    "def join_predict(model1, model2, X, y_cat, y_cont):\n",
    "    \n",
    "    print('clasifying (layer1)...')\n",
    "\n",
    "    layer1 = model1.predict(X)\n",
    "    \n",
    "    print('regressing (layer2)...')\n",
    "    X2 = X[layer1 != 0]\n",
    "    print('Length of layer 2 :', len(X2))\n",
    "    y2 = y_cont[layer1 != 0]\n",
    "    layer2 = model2.predict(X2)\n",
    "    \n",
    "    layer1[layer1 != 0] = layer2\n",
    "    \n",
    "    print('done!')\n",
    "    \n",
    "    return layer1"
   ]
  },
  {
   "cell_type": "code",
   "execution_count": 23,
   "metadata": {},
   "outputs": [
    {
     "name": "stdout",
     "output_type": "stream",
     "text": [
      "clasifying (layer1)...\n",
      "regressing (layer2)...\n",
      "Length of layer 2 : 2967\n",
      "done!\n"
     ]
    }
   ],
   "source": [
    "y_pred_train = join_predict(model1, model2, X_train, y_train[:,0], np.log(1 + y_train[:,1]))"
   ]
  },
  {
   "cell_type": "code",
   "execution_count": 24,
   "metadata": {},
   "outputs": [
    {
     "name": "stdout",
     "output_type": "stream",
     "text": [
      "RMSE: 0.7690588860370915\n",
      "Rsquared: -149.98021378156534\n"
     ]
    }
   ],
   "source": [
    "# get prediction error\n",
    "in_RMSE = np.sqrt(mean_squared_error(y_pred_train, np.log(1 + y_train[:,1])))\n",
    "rSquared = regr.score(X_train, np.log(1 + y_train[:,1]))\n",
    "print('RMSE: {}\\nRsquared: {}'.format(in_RMSE, rSquared))"
   ]
  },
  {
   "cell_type": "code",
   "execution_count": 25,
   "metadata": {},
   "outputs": [
    {
     "name": "stdout",
     "output_type": "stream",
     "text": [
      "Final model accuracy on train set (in log): 0.769058886037\n",
      "Error for a $98.48431564193378 prediction: +/-  US$213.66075238112242\n",
      "Error for a $991.2747156050262 prediction: +/-  US$2140.0655101371203\n"
     ]
    }
   ],
   "source": [
    "acc = np.sqrt(mean_squared_error(y_pred_train, np.log(1 + y_train[:, 1])))\n",
    "print('Final model accuracy on train set (in log):', acc)\n",
    "print('Error for a ${} prediction: +/-  US${}'.format(np.expm1(4.6), np.expm1(4.6 + acc)))\n",
    "print('Error for a ${} prediction: +/-  US${}'.format(np.expm1(6.9), np.expm1(6.9 + acc)))"
   ]
  },
  {
   "cell_type": "code",
   "execution_count": 26,
   "metadata": {},
   "outputs": [
    {
     "name": "stdout",
     "output_type": "stream",
     "text": [
      "clasifying (layer1)...\n",
      "regressing (layer2)...\n",
      "Length of layer 2 : 199\n",
      "done!\n"
     ]
    }
   ],
   "source": [
    "y_pred_test = join_predict(model1, model2, X_test, y_test[:,0], np.log(1 + y_test[:,1]))"
   ]
  },
  {
   "cell_type": "code",
   "execution_count": 27,
   "metadata": {},
   "outputs": [
    {
     "name": "stdout",
     "output_type": "stream",
     "text": [
      "Final model accuracy on test set (in log): 0.48392531206\n",
      "Error for a $100 prediction: +/-  US$ 10.99\n",
      "Error for a $1000 prediction: +/-  US$ 31.59\n"
     ]
    }
   ],
   "source": [
    "acc = np.sqrt(mean_squared_error(y_pred_test, np.log(1 + y_test[:, 1])))\n",
    "print('Final model accuracy on test set (in log):', acc)\n",
    "print('Error for a $100 prediction: +/-  US$', round(np.expm1(2 + acc), 2))\n",
    "print('Error for a $1000 prediction: +/-  US$', round(np.expm1(3 + acc), 2))"
   ]
  },
  {
   "cell_type": "code",
   "execution_count": 28,
   "metadata": {},
   "outputs": [
    {
     "data": {
      "text/plain": [
       "<matplotlib.collections.PathCollection at 0x10bbca588>"
      ]
     },
     "execution_count": 28,
     "metadata": {},
     "output_type": "execute_result"
    },
    {
     "data": {
      "image/png": "[encoded data removed]",
      "text/plain": [
       "<matplotlib.figure.Figure at 0x10ceb3940>"
      ]
     },
     "metadata": {},
     "output_type": "display_data"
    }
   ],
   "source": [
    "plt.scatter(y_pred_train[:1000], np.log(1 + y_test[:1000, 1]))"
   ]
  },
  {
   "cell_type": "code",
   "execution_count": null,
   "metadata": {},
   "outputs": [],
   "source": [
    "plt.hist(y_pred_train[:1000])"
   ]
  },
  {
   "cell_type": "code",
   "execution_count": null,
   "metadata": {
    "collapsed": true
   },
   "outputs": [],
   "source": []
  }
 ],
 "metadata": {
  "anaconda-cloud": {},
  "kernelspec": {
   "display_name": "Python 3",
   "language": "python",
   "name": "python3"
  },
  "language_info": {
   "codemirror_mode": {
    "name": "ipython",
    "version": 3
   },
   "file_extension": ".py",
   "mimetype": "text/x-python",
   "name": "python",
   "nbconvert_exporter": "python",
   "pygments_lexer": "ipython3",
   "version": "3.6.3"
  },
  "nbpresent": {
   "slides": {},
   "themes": {
    "default": "a151beb9-8a80-441f-a3f7-55037187b072",
    "theme": {}
   }
  }
 },
 "nbformat": 4,
 "nbformat_minor": 2
}
